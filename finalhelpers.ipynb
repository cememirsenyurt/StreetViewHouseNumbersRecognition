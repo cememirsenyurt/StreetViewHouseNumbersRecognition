{
 "cells": [
  {
   "cell_type": "markdown",
   "metadata": {},
   "source": [
    "Entropy"
   ]
  },
  {
   "cell_type": "code",
   "execution_count": 1,
   "metadata": {},
   "outputs": [
    {
     "name": "stdout",
     "output_type": "stream",
     "text": [
      "0.9709505944546686\n"
     ]
    }
   ],
   "source": [
    "import math\n",
    "sm = (((0.6)*math.log(0.6,2)) + ((0.4)*math.log(0.4,2)))*(-1)\n",
    "print(sm)"
   ]
  },
  {
   "cell_type": "markdown",
   "metadata": {},
   "source": [
    "Information gain"
   ]
  },
  {
   "cell_type": "code",
   "execution_count": 2,
   "metadata": {},
   "outputs": [
    {
     "name": "stdout",
     "output_type": "stream",
     "text": [
      "X1 information gain = 0.04643934467101546\n"
     ]
    }
   ],
   "source": [
    "x10e = ((((0.75)*math.log(0.75,2)) + ((0.25)*math.log(0.25,2)))*-1)\n",
    "x11e = ((((0.5)*math.log(0.5,2)) + ((0.5)*math.log(0.5,2)))*-1)\n",
    "print(f\"X1 information gain = {(sm-x10e)*0.4 + (sm-x11e)*0.6}\")"
   ]
  },
  {
   "cell_type": "markdown",
   "metadata": {},
   "source": [
    "Neural Network"
   ]
  },
  {
   "cell_type": "code",
   "execution_count": 24,
   "metadata": {},
   "outputs": [],
   "source": [
    "from sklearn.metrics import confusion_matrix\n",
    "def predict(w,b,x):\n",
    "    hret = []\n",
    "    for i in w:\n",
    "        h = i[0]\n",
    "        for j in i[1:]:\n",
    "            h+= x*j\n",
    "        h = h if h >0 else 0\n",
    "        hret.append(h)\n",
    "    pred = b[0]\n",
    "    for i,j in zip(hret,b[1:]):\n",
    "        pred+=i*j\n",
    "    pred = 1/(1+2.7**(-pred))\n",
    "    return 1 if pred >0.5 else -1\n",
    "def predlog(w,b,x):\n",
    "    hret = []\n",
    "    for i in w:\n",
    "        h = i[0]\n",
    "        for j in i[1:]:\n",
    "            h+= x*j\n",
    "        h = h if h >0 else 0\n",
    "        hret.append(h)\n",
    "    pred = b[0]\n",
    "    for i,j in zip(hret,b[1:]):\n",
    "        pred+=i*j\n",
    "    return 1/(1+2.7**(-pred))\n",
    "\n",
    "def confmatr(w,b,x,y):\n",
    "    ypred = [predict(w,b,i) for i in x]\n",
    "    cm = confusion_matrix(y, ypred)\n",
    "    print(cm)\n",
    "    print(f\"true positive:{cm[0][0]/(cm[0][0]+cm[1][0])}\")\n",
    "    print(f\"false positive:{cm[0][1]/(cm[0][1]+cm[1][1])}\")\n",
    "    #print(f\"true negative:{cm[0][1]/(cm[0][1]+cm[1][1])}\")\n",
    "    print(f\"false negative:{cm[1][0]/(cm[1][0]+cm[0][0])}\")\n",
    "    \n",
    "\n",
    "\n",
    "def error_rate(w,b,xls, yls):\n",
    "    c = 0\n",
    "    for x,y in zip(xls, yls):\n",
    "        xpred = predict(w,b,x)\n",
    "        if xpred != y:\n",
    "            c+= 1\n",
    "    print(f\"{c}/{len(xls)}, or {c/len(xls)}\")\n",
    "    "
   ]
  },
  {
   "cell_type": "code",
   "execution_count": 25,
   "metadata": {},
   "outputs": [
    {
     "name": "stdout",
     "output_type": "stream",
     "text": [
      "2/7, or 0.2857142857142857\n",
      "0.951651114441812\n",
      "1 -1\n",
      "-1 -1\n",
      "1 1\n",
      "-1 1\n",
      "1 1\n",
      "-1 -1\n",
      "-1 -1\n",
      "[[3 1]\n",
      " [1 2]]\n",
      "true positive:0.75\n",
      "false positive:0.3333333333333333\n",
      "false negative:0.25\n"
     ]
    }
   ],
   "source": [
    "w =[ [ -1 , -1 ] , [ 0 , 2 ], [ -2 , 1]]\n",
    "b = [-1,-1,1,-3]\n",
    "x = [-4,-2,1,2,3,6,7]\n",
    "y = [1,-1,1,-1,1,-1,-1]\n",
    "error_rate(w,b,x,y)\n",
    "print(predlog(w,b,2))\n",
    "for i,j in zip(x,y):\n",
    "    print(j, predict(w,b,i))\n",
    "confmatr(w,b,x,y)\n"
   ]
  }
 ],
 "metadata": {
  "kernelspec": {
   "display_name": "Python 3.10.8 ('cs178')",
   "language": "python",
   "name": "python3"
  },
  "language_info": {
   "codemirror_mode": {
    "name": "ipython",
    "version": 3
   },
   "file_extension": ".py",
   "mimetype": "text/x-python",
   "name": "python",
   "nbconvert_exporter": "python",
   "pygments_lexer": "ipython3",
   "version": "3.10.8"
  },
  "orig_nbformat": 4,
  "vscode": {
   "interpreter": {
    "hash": "38c762ab130bd88fd467ed819ac0e6ce94c03cd3cf47821307e691fea32fd23e"
   }
  }
 },
 "nbformat": 4,
 "nbformat_minor": 2
}
