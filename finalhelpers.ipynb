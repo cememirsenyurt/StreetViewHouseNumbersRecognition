{
 "cells": [
  {
   "cell_type": "markdown",
   "metadata": {},
   "source": [
    "Entropy"
   ]
  },
  {
   "cell_type": "code",
   "execution_count": 54,
   "metadata": {},
   "outputs": [
    {
     "name": "stdout",
     "output_type": "stream",
     "text": [
      "0.9709505944546686\n"
     ]
    }
   ],
   "source": [
    "import math\n",
    "sm = (((0.6)*math.log(0.6,2)) + ((0.4)*math.log(0.4,2)))*(-1)\n",
    "print(sm)"
   ]
  },
  {
   "cell_type": "markdown",
   "metadata": {},
   "source": [
    "Information gain"
   ]
  },
  {
   "cell_type": "code",
   "execution_count": 2,
   "metadata": {},
   "outputs": [
    {
     "name": "stdout",
     "output_type": "stream",
     "text": [
      "X1 information gain = 0.04643934467101546\n"
     ]
    }
   ],
   "source": [
    "x10e = ((((0.75)*math.log(0.75,2)) + ((0.25)*math.log(0.25,2)))*-1)\n",
    "x11e = ((((0.5)*math.log(0.5,2)) + ((0.5)*math.log(0.5,2)))*-1)\n",
    "print(f\"X1 information gain = {(sm-x10e)*0.4 + (sm-x11e)*0.6}\")"
   ]
  },
  {
   "cell_type": "markdown",
   "metadata": {},
   "source": [
    "Neural Network"
   ]
  },
  {
   "cell_type": "code",
   "execution_count": 72,
   "metadata": {},
   "outputs": [],
   "source": [
    "import numpy\n",
    "def predict(w,b,x):\n",
    "    hret = []\n",
    "    for i in w:\n",
    "        h = i[0]\n",
    "        for j in i[1:]:\n",
    "            h+= x*j\n",
    "        h = h if h >0 else 0\n",
    "        hret.append(h)\n",
    "    #print(hret)\n",
    "    pred = b[0]\n",
    "    for i,j in zip(hret,b[1:]):\n",
    "        pred+=i*j\n",
    "    pred = 1/(1+2.7**(-1*pred))\n",
    "    return 1 if pred > 0.5 else -1\n",
    "def predlog(w,b,x,y):\n",
    "    hret = []\n",
    "    for i in w:\n",
    "        h = i[0]\n",
    "        for j in i[1:]:\n",
    "            h+= x*j\n",
    "        h = h if h >0 else 0\n",
    "        hret.append(h)\n",
    "    pred = b[0]\n",
    "    for i,j in zip(hret,b[1:]):\n",
    "        pred+=i*j\n",
    "    pred = 1/(1+math.e**(-1*pred))\n",
    "    ret = -1*y*numpy.log(pred)-(1-y)*numpy.log(1-pred)\n",
    "    return ret\n",
    "\n",
    "def confmatr(w,b,x,y):\n",
    "    ypred = [predict(w,b,i) for i in x]\n",
    "    tplus = 0 \n",
    "    fplus = 0\n",
    "    tmin = 0\n",
    "    fmin = 0\n",
    "    totplus = 0\n",
    "    totmin = 0\n",
    "    for i,j in zip(y, ypred):\n",
    "        if i==1:\n",
    "            totplus+=1\n",
    "            if j==1: tplus +=1\n",
    "            elif j==-1: fmin+=1\n",
    "        if i==-1:\n",
    "            totmin+=1\n",
    "            if j==-1: tmin+=1\n",
    "            elif j==1: fplus+=1\n",
    "\n",
    "    print(f\"true positive:{tplus/totplus}\")\n",
    "    print(f\"false positive:{fplus/totmin}\")\n",
    "    print(f\"true negative:{tmin/totmin}\")\n",
    "    print(f\"false negative:{fmin/totplus}\")\n",
    "\n",
    "def error_rate(w,b,xls, yls):\n",
    "    c = 0\n",
    "    for x,y in zip(xls, yls):\n",
    "        xpred = predict(w,b,x)\n",
    "        if xpred != y:\n",
    "            c+= 1\n",
    "    print(f\"{c}/{len(xls)}, or {c/len(xls)}\")\n",
    "    "
   ]
  },
  {
   "cell_type": "code",
   "execution_count": 73,
   "metadata": {},
   "outputs": [
    {
     "name": "stdout",
     "output_type": "stream",
     "text": [
      "2/7, or 0.2857142857142857\n",
      "0.3132616875182228\n",
      "1 -1\n",
      "-1 -1\n",
      "1 1\n",
      "-1 1\n",
      "1 1\n",
      "-1 -1\n",
      "-1 -1\n",
      "true positive:0.6666666666666666\n",
      "false positive:0.25\n",
      "true negative:0.75\n",
      "false negative:0.3333333333333333\n"
     ]
    },
    {
     "data": {
      "text/plain": [
       "-1"
      ]
     },
     "execution_count": 73,
     "metadata": {},
     "output_type": "execute_result"
    }
   ],
   "source": [
    "w =[ [ -1 , -1 ] , [ 0 , 2 ], [ -2 , 1]]\n",
    "b = [-1,-1,1,-3]\n",
    "x = [-4,-2,1,2,3,6,7]\n",
    "y = [1,-1,1,-1,1,-1,-1]\n",
    "error_rate(w,b,x,y)\n",
    "print(predlog(w,b,1,1))\n",
    "for i,j in zip(x,y):\n",
    "    print(j, predict(w,b,i))\n",
    "confmatr(w,b,x,y)\n",
    "predict(w,b,-4)\n"
   ]
  }
 ],
 "metadata": {
  "kernelspec": {
   "display_name": "Python 3.10.8 ('cs178')",
   "language": "python",
   "name": "python3"
  },
  "language_info": {
   "codemirror_mode": {
    "name": "ipython",
    "version": 3
   },
   "file_extension": ".py",
   "mimetype": "text/x-python",
   "name": "python",
   "nbconvert_exporter": "python",
   "pygments_lexer": "ipython3",
   "version": "3.10.8"
  },
  "orig_nbformat": 4,
  "vscode": {
   "interpreter": {
    "hash": "38c762ab130bd88fd467ed819ac0e6ce94c03cd3cf47821307e691fea32fd23e"
   }
  }
 },
 "nbformat": 4,
 "nbformat_minor": 2
}
