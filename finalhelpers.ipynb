{
 "cells": [
  {
   "cell_type": "code",
   "execution_count": 1,
   "metadata": {},
   "outputs": [],
   "source": [
    "import numpy as np\n",
    "import math"
   ]
  },
  {
   "cell_type": "markdown",
   "metadata": {},
   "source": [
    "Entropy"
   ]
  },
  {
   "cell_type": "code",
   "execution_count": 2,
   "metadata": {},
   "outputs": [
    {
     "name": "stdout",
     "output_type": "stream",
     "text": [
      "0.9709505944546686\n"
     ]
    }
   ],
   "source": [
    "\n",
    "sm = (((0.6)*math.log(0.6,2)) + ((0.4)*math.log(0.4,2)))*(-1)\n",
    "print(sm)"
   ]
  },
  {
   "cell_type": "markdown",
   "metadata": {},
   "source": [
    "Information gain"
   ]
  },
  {
   "cell_type": "code",
   "execution_count": null,
   "metadata": {},
   "outputs": [],
   "source": [
    "x10e = ((((0.75)*math.log(0.75,2)) + ((0.25)*math.log(0.25,2)))*-1)\n",
    "x11e = ((((0.5)*math.log(0.5,2)) + ((0.5)*math.log(0.5,2)))*-1)\n",
    "print(f\"X1 information gain = {(sm-x10e)*0.4 + (sm-x11e)*0.6}\")"
   ]
  },
  {
   "cell_type": "markdown",
   "metadata": {},
   "source": [
    "Neural Network"
   ]
  },
  {
   "cell_type": "code",
   "execution_count": 3,
   "metadata": {},
   "outputs": [],
   "source": [
    "def predict(w,b,x):\n",
    "    hret = []\n",
    "    for i in w:\n",
    "        h = i[0]\n",
    "        for j in i[1:]:\n",
    "            h+= x*j\n",
    "        h = h if h >0 else 0\n",
    "        hret.append(h)\n",
    "    pred = b[0]\n",
    "    for i,j in zip(hret,b[1:]):\n",
    "        pred+=i*j\n",
    "    return 1 if pred >0.5 else -1\n",
    "\n",
    "def error_rate(w,b,xls, yls):\n",
    "    c = 0\n",
    "    for x,y in zip(xls, yls):\n",
    "        xpred = predict(w,b,x)\n",
    "        if xpred != y:\n",
    "            c+= 1\n",
    "    print(f\"{c}/{len(xls)}, or {c/len(xls)}\")\n",
    "    "
   ]
  },
  {
   "cell_type": "code",
   "execution_count": 4,
   "metadata": {},
   "outputs": [
    {
     "name": "stdout",
     "output_type": "stream",
     "text": [
      "2/7, or 0.2857142857142857\n"
     ]
    }
   ],
   "source": [
    "w =[ [ -1 , -1 ] , [ 0 , 2 ], [ -2 , 1]]\n",
    "b = [-1,-1,1,-3]\n",
    "x = [-4,-2,1,2,3,6,7]\n",
    "y = [1,-1,1,-1,1,-1,-1]\n",
    "error_rate(w,b,x,y)"
   ]
  },
  {
   "attachments": {},
   "cell_type": "markdown",
   "metadata": {},
   "source": [
    "Markov Reward Processes"
   ]
  },
  {
   "cell_type": "code",
   "execution_count": 28,
   "metadata": {},
   "outputs": [],
   "source": [
    "class MRP:\n",
    "    def __init__(self, states: list, rewards: dict, transitions: dict, gamma: float) -> None:\n",
    "        self.states = sorted(states)\n",
    "        self.rewards = rewards\n",
    "        self.transitions = transitions\n",
    "        self.gamma = gamma\n",
    "\n",
    "    def expectedRewards(self, seq_l: int) -> np.ndarray:\n",
    "        if seq_l < 0:\n",
    "            raise Exception(\"l must be >= 0\")\n",
    "        expected_rewards = np.zeros((seq_l+1,len(self.states)))\n",
    "\n",
    "        for l in range(1, seq_l+1):\n",
    "            for si, state in enumerate(self.states):\n",
    "                future_expected_reward = sum([t_prob*expected_rewards[l-1][self.states.index(t_state)] for t_state, t_prob in self.transitions[state]])\n",
    "                expected_rewards[l][si] = self.rewards[state] + self.gamma * future_expected_reward\n",
    "\n",
    "        return expected_rewards\n",
    "    \n",
    "    def expectedReward(self, seq_l: int, state: str) -> None:\n",
    "        print(\"J({},{}) = {}\".format(seq_l, state, self.expectedRewards(seq_l)[seq_l][self.states.index(state)]))\n",
    "    \n",
    "    def displayRewardTable(self, seq_l: int) -> None:\n",
    "        expected_rewards = self.expectedRewards(seq_l)\n",
    "        max_state_len = max([len(s) for s in self.states])\n",
    "        header = (\" \" * (max_state_len+6)) + \"       \".join([str(l) for l in range(seq_l+1)])\n",
    "        print(header)\n",
    "        for state in self.states:\n",
    "            line = \" {} \".format(state.rjust(max_state_len, \" \")) + \"  \".join([\"{:6.3f}\".format(expected_rewards[l][self.states.index(state)]) for l in range(seq_l+1)])\n",
    "            print(line)\n",
    "        \n",
    "\n",
    "    \n",
    "def parseMRPInput(input_lines: list) -> MRP:\n",
    "    states = []\n",
    "    rewards = {}\n",
    "    transitions = {}\n",
    "    gamma = 0\n",
    "    for line in input_lines:\n",
    "        split_line = line.split()\n",
    "        if len(split_line) == 1:\n",
    "            gamma = float(split_line[0])\n",
    "            break\n",
    "        state = split_line[0]\n",
    "        reward = float(split_line[1])\n",
    "        transition = [tuple([split_line[i], float(split_line[i+1])]) for i in range(2,len(split_line),2)]\n",
    "        states.append(state)\n",
    "        rewards[state] = reward\n",
    "        transitions[state] = transition\n",
    "\n",
    "    return MRP(states, rewards, transitions, gamma)\n"
   ]
  },
  {
   "cell_type": "code",
   "execution_count": 29,
   "metadata": {},
   "outputs": [
    {
     "name": "stdout",
     "output_type": "stream",
     "text": [
      "J(3,C) = 5.667\n",
      "       0       1       2       3\n",
      " A  0.000  -2.000  -2.500  -1.875\n",
      " B  0.000   0.000   3.000   2.667\n",
      " C  0.000   6.000   5.334   5.667\n"
     ]
    }
   ],
   "source": [
    "sample_mrp_input = [\n",
    "    \"A -2 A 0.5 B 0.5\",\n",
    "    \"B 0 C 1.0\",\n",
    "    \"C 6 A .666 B .333\",\n",
    "    \"0.5\"\n",
    "]\n",
    "\n",
    "sampleMRP = parseMRPInput(sample_mrp_input)\n",
    "sampleMRP.expectedReward(3, \"C\")\n",
    "sampleMRP.displayRewardTable(3)"
   ]
  }
 ],
 "metadata": {
  "kernelspec": {
   "display_name": "Python 3.10.8 ('cs178')",
   "language": "python",
   "name": "python3"
  },
  "language_info": {
   "codemirror_mode": {
    "name": "ipython",
    "version": 3
   },
   "file_extension": ".py",
   "mimetype": "text/x-python",
   "name": "python",
   "nbconvert_exporter": "python",
   "pygments_lexer": "ipython3",
   "version": "3.8.3"
  },
  "orig_nbformat": 4,
  "vscode": {
   "interpreter": {
    "hash": "38c762ab130bd88fd467ed819ac0e6ce94c03cd3cf47821307e691fea32fd23e"
   }
  }
 },
 "nbformat": 4,
 "nbformat_minor": 2
}
