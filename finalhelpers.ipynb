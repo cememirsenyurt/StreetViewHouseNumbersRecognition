{
 "cells": [
  {
   "cell_type": "code",
   "execution_count": 1,
   "metadata": {},
   "outputs": [],
   "source": [
    "import numpy as np\n",
    "import math"
   ]
  },
  {
   "cell_type": "markdown",
   "metadata": {},
   "source": [
    "Entropy"
   ]
  },
  {
   "cell_type": "code",
<<<<<<< HEAD
   "execution_count": 1,
=======
   "execution_count": 2,
>>>>>>> 119acf477555b9d0a501bb58516f0b0b29032594
   "metadata": {},
   "outputs": [
    {
     "name": "stdout",
     "output_type": "stream",
     "text": [
      "0.9709505944546686\n"
     ]
    }
   ],
   "source": [
    "\n",
    "sm = (((0.6)*math.log(0.6,2)) + ((0.4)*math.log(0.4,2)))*(-1)\n",
    "print(sm)"
   ]
  },
  {
   "cell_type": "markdown",
   "metadata": {},
   "source": [
    "Information gain"
   ]
  },
  {
   "cell_type": "code",
<<<<<<< HEAD
   "execution_count": 2,
=======
   "execution_count": 3,
>>>>>>> 119acf477555b9d0a501bb58516f0b0b29032594
   "metadata": {},
   "outputs": [
    {
     "name": "stdout",
     "output_type": "stream",
     "text": [
      "X1 information gain = 0.04643934467101546\n"
     ]
    }
   ],
   "source": [
    "x10e = ((((0.75)*math.log(0.75,2)) + ((0.25)*math.log(0.25,2)))*-1)\n",
    "x11e = ((((0.5)*math.log(0.5,2)) + ((0.5)*math.log(0.5,2)))*-1)\n",
    "print(f\"X1 information gain = {(sm-x10e)*0.4 + (sm-x11e)*0.6}\")"
   ]
  },
  {
   "cell_type": "markdown",
   "metadata": {},
   "source": [
    "Neural Network"
   ]
  },
  {
   "cell_type": "code",
<<<<<<< HEAD
   "execution_count": 24,
=======
   "execution_count": 4,
>>>>>>> 119acf477555b9d0a501bb58516f0b0b29032594
   "metadata": {},
   "outputs": [],
   "source": [
    "from sklearn.metrics import confusion_matrix\n",
    "def predict(w,b,x):\n",
    "    hret = []\n",
    "    for i in w:\n",
    "        h = i[0]\n",
    "        for j in i[1:]:\n",
    "            h+= x*j\n",
    "        h = h if h >0 else 0\n",
    "        hret.append(h)\n",
    "    pred = b[0]\n",
    "    for i,j in zip(hret,b[1:]):\n",
    "        pred+=i*j\n",
    "    pred = 1/(1+2.7**(-pred))\n",
    "    return 1 if pred >0.5 else -1\n",
    "def predlog(w,b,x):\n",
    "    hret = []\n",
    "    for i in w:\n",
    "        h = i[0]\n",
    "        for j in i[1:]:\n",
    "            h+= x*j\n",
    "        h = h if h >0 else 0\n",
    "        hret.append(h)\n",
    "    pred = b[0]\n",
    "    for i,j in zip(hret,b[1:]):\n",
    "        pred+=i*j\n",
    "    return 1/(1+2.7**(-pred))\n",
    "\n",
    "def confmatr(w,b,x,y):\n",
    "    ypred = [predict(w,b,i) for i in x]\n",
    "    cm = confusion_matrix(y, ypred)\n",
    "    print(cm)\n",
    "    print(f\"true positive:{cm[0][0]/(cm[0][0]+cm[1][0])}\")\n",
    "    print(f\"false positive:{cm[0][1]/(cm[0][1]+cm[1][1])}\")\n",
    "    #print(f\"true negative:{cm[0][1]/(cm[0][1]+cm[1][1])}\")\n",
    "    print(f\"false negative:{cm[1][0]/(cm[1][0]+cm[0][0])}\")\n",
    "    \n",
    "\n",
    "\n",
    "def error_rate(w,b,xls, yls):\n",
    "    c = 0\n",
    "    for x,y in zip(xls, yls):\n",
    "        xpred = predict(w,b,x)\n",
    "        if xpred != y:\n",
    "            c+= 1\n",
    "    print(f\"{c}/{len(xls)}, or {c/len(xls)}\")\n",
    "    "
   ]
  },
  {
   "cell_type": "code",
<<<<<<< HEAD
   "execution_count": 25,
=======
   "execution_count": 5,
>>>>>>> 119acf477555b9d0a501bb58516f0b0b29032594
   "metadata": {},
   "outputs": [
    {
     "name": "stdout",
     "output_type": "stream",
     "text": [
      "2/7, or 0.2857142857142857\n",
      "0.951651114441812\n",
      "1 -1\n",
      "-1 -1\n",
      "1 1\n",
      "-1 1\n",
      "1 1\n",
      "-1 -1\n",
      "-1 -1\n",
      "[[3 1]\n",
      " [1 2]]\n",
      "true positive:0.75\n",
      "false positive:0.3333333333333333\n",
      "false negative:0.25\n"
     ]
    }
   ],
   "source": [
    "w =[ [ -1 , -1 ] , [ 0 , 2 ], [ -2 , 1]]\n",
    "b = [-1,-1,1,-3]\n",
    "x = [-4,-2,1,2,3,6,7]\n",
    "y = [1,-1,1,-1,1,-1,-1]\n",
    "error_rate(w,b,x,y)\n",
    "print(predlog(w,b,2))\n",
    "for i,j in zip(x,y):\n",
    "    print(j, predict(w,b,i))\n",
    "confmatr(w,b,x,y)\n"
   ]
  },
  {
   "attachments": {},
   "cell_type": "markdown",
   "metadata": {},
   "source": [
    "Markov Reward Processes"
   ]
  },
  {
   "cell_type": "code",
   "execution_count": 6,
   "metadata": {},
   "outputs": [],
   "source": [
    "class MRP:\n",
    "    def __init__(self, states: list, rewards: dict, transitions: dict, gamma: float) -> None:\n",
    "        self.states = sorted(states)\n",
    "        self.rewards = rewards\n",
    "        self.transitions = transitions\n",
    "        self.gamma = gamma\n",
    "\n",
    "    def expectedRewards(self, seq_l: int) -> np.ndarray:\n",
    "        if seq_l < 0:\n",
    "            raise Exception(\"l must be >= 0\")\n",
    "        expected_rewards = np.zeros((seq_l+1,len(self.states)))\n",
    "\n",
    "        for l in range(1, seq_l+1):\n",
    "            for si, state in enumerate(self.states):\n",
    "                future_expected_reward = sum([t_prob*expected_rewards[l-1][self.states.index(t_state)] for t_state, t_prob in self.transitions[state]])\n",
    "                expected_rewards[l][si] = self.rewards[state] + self.gamma * future_expected_reward\n",
    "\n",
    "        return expected_rewards\n",
    "    \n",
    "    def expectedReward(self, seq_l: int, state: str) -> None:\n",
    "        print(\"J({},{}) = {}\".format(seq_l, state, self.expectedRewards(seq_l)[seq_l][self.states.index(state)]))\n",
    "    def displayRewardTable(self, seq_l: int) -> None:\n",
    "        expected_rewards = self.expectedRewards(seq_l)\n",
    "        max_state_len = max([len(s) for s in self.states])\n",
    "        header = (\" \" * (max_state_len+2)) + \"  \".join([str(l).rjust(6, \" \") for l in range(seq_l+1)])\n",
    "        print(header)\n",
    "        for state in self.states:\n",
    "            line = \" {} \".format(state.rjust(max_state_len, \" \")) + \"  \".join([\"{:6.3f}\".format(expected_rewards[l][self.states.index(state)]) for l in range(seq_l+1)])\n",
    "            print(line)\n",
    "        \n",
    "\n",
    "    \n",
    "def parseMRPInput(input_lines: list) -> MRP:\n",
    "    states = []\n",
    "    rewards = {}\n",
    "    transitions = {}\n",
    "    gamma = 0\n",
    "    for line in input_lines:\n",
    "        split_line = line.split()\n",
    "        if len(split_line) == 1:\n",
    "            gamma = float(split_line[0])\n",
    "            break\n",
    "        state = split_line[0]\n",
    "        reward = float(split_line[1])\n",
    "        transition = [tuple([split_line[i], float(split_line[i+1])]) for i in range(2,len(split_line),2)]\n",
    "        states.append(state)\n",
    "        rewards[state] = reward\n",
    "        transitions[state] = transition\n",
    "\n",
    "    return MRP(states, rewards, transitions, gamma)\n"
   ]
  },
  {
   "cell_type": "code",
   "execution_count": 7,
   "metadata": {},
   "outputs": [
    {
     "name": "stdout",
     "output_type": "stream",
     "text": [
      "J(3,C) = 5.667\n",
      "        0       1       2       3       4       5       6       7       8       9      10\n",
      " A  0.000  -2.000  -2.500  -1.875  -1.802  -1.742  -1.708  -1.693  -1.685  -1.681  -1.679\n",
      " B  0.000   0.000   3.000   2.667   2.833   2.910   2.936   2.952   2.960   2.964   2.966\n",
      " C  0.000   6.000   5.334   5.667   5.820   5.872   5.904   5.920   5.928   5.932   5.934\n"
     ]
    }
   ],
   "source": [
    "sample_mrp_input = [\n",
    "    \"A -2 A 0.5 B 0.5\",\n",
    "    \"B 0 C 1.0\",\n",
    "    \"C 6 A .666 B .333\",\n",
    "    \"0.5\"\n",
    "]\n",
    "\n",
    "sampleMRP = parseMRPInput(sample_mrp_input)\n",
    "sampleMRP.expectedReward(3, \"C\")\n",
    "sampleMRP.displayRewardTable(10)"
   ]
  },
  {
   "attachments": {},
   "cell_type": "markdown",
   "metadata": {},
   "source": [
    "Support Vector Machines"
   ]
  },
  {
   "cell_type": "code",
   "execution_count": 9,
   "metadata": {},
   "outputs": [
    {
     "name": "stdout",
     "output_type": "stream",
     "text": [
      "Parameters:\n",
      "    w1: 1.0  w2: 0.0  b: -1.9999999999999998\n",
      "Margin width: 2.0\n"
     ]
    }
   ],
   "source": [
    "def svm(input_lines: list) -> None:\n",
    "    i = 1\n",
    "    svs = []\n",
    "    labels = []\n",
    "    for line in input_lines:\n",
    "        try:\n",
    "            line_vals = line.split(\":\")\n",
    "            sv = [float(val) for val in line_vals[0].split(\",\")]\n",
    "            sv.append(1)\n",
    "            label = 1 if line_vals[1] == \"+\" else -1\n",
    "        except:\n",
    "            raise Exception(\"Input format error.\")\n",
    "        svs.append(sv)\n",
    "        labels.append(label)\n",
    "        i += 1\n",
    "\n",
    "    svs_arr = np.array(svs)\n",
    "    labels_arr = np.array(labels)\n",
    "\n",
    "    sol = np.linalg.solve(svs_arr, labels_arr)\n",
    "    width = 2/np.sqrt(sol[0]**2 + sol[1]**2)\n",
    "\n",
    "    print(\"Parameters:\\n    w1: {}  w2: {}  b: {}\".format(*sol))\n",
    "    print(\"Margin width: {}\".format(width))\n",
    "\n",
    "#ONLY INPUT SVMs, NOT ALL DATA POINTS\n",
    "sample_svm_input = [\n",
    "    \"1,1:-\",\n",
    "    \"1,5:-\",\n",
    "    \"3,3:+\"\n",
    "]\n",
    "\n",
    "svm(sample_svm_input)"
   ]
  }
 ],
 "metadata": {
  "kernelspec": {
   "display_name": "Python 3.10.8 ('cs178')",
   "language": "python",
   "name": "python3"
  },
  "language_info": {
   "codemirror_mode": {
    "name": "ipython",
    "version": 3
   },
   "file_extension": ".py",
   "mimetype": "text/x-python",
   "name": "python",
   "nbconvert_exporter": "python",
   "pygments_lexer": "ipython3",
   "version": "3.8.3"
  },
  "orig_nbformat": 4,
  "vscode": {
   "interpreter": {
    "hash": "38c762ab130bd88fd467ed819ac0e6ce94c03cd3cf47821307e691fea32fd23e"
   }
  }
 },
 "nbformat": 4,
 "nbformat_minor": 2
}
