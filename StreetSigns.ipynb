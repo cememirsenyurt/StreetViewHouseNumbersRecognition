{
 "cells": [
  {
   "cell_type": "code",
   "execution_count": 1,
   "id": "aa181670",
   "metadata": {},
   "outputs": [
    {
     "name": "stdout",
     "output_type": "stream",
     "text": [
      "Starting!!: 03/11/2023 04:43 pm\n",
      "Welcome back, Daniel Sam and Cem\n"
     ]
    }
   ],
   "source": [
    "print(\"Starting!!: 03/11/2023 04:43 pm\")\n",
    "print(\"Welcome back, Daniel Sam and Cem\")"
   ]
  },
  {
   "cell_type": "code",
   "execution_count": null,
   "id": "7b4f612b",
   "metadata": {},
   "outputs": [],
   "source": []
  }
 ],
 "metadata": {
  "kernelspec": {
   "display_name": "Python 3 (ipykernel)",
   "language": "python",
   "name": "python3"
  },
  "language_info": {
   "codemirror_mode": {
    "name": "ipython",
    "version": 3
   },
   "file_extension": ".py",
   "mimetype": "text/x-python",
   "name": "python",
   "nbconvert_exporter": "python",
   "pygments_lexer": "ipython3",
   "version": "3.9.12"
  }
 },
 "nbformat": 4,
 "nbformat_minor": 5
}
