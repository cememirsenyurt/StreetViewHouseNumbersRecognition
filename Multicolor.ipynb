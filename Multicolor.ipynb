{
 "cells": [
  {
   "cell_type": "code",
   "execution_count": 20,
   "metadata": {},
   "outputs": [],
   "source": [
    "import numpy, os\n",
    "from xgboost import XGBClassifier\n",
    "from xgboost import XGBRegressor\n",
    "from sklearn.metrics import confusion_matrix, accuracy_score\n",
    "from scipy.stats import mode\n",
    "from keras.models import Model, Sequential\n",
    "import matplotlib.pyplot as plt\n",
    "from keras.utils import load_img\n",
    "from keras.layers import Input, Dense, Conv2D, UpSampling2D, Conv2DTranspose, Flatten, MaxPooling2D, BatchNormalization, Dropout\n",
    "from helpers import loadData"
   ]
  },
  {
   "cell_type": "code",
   "execution_count": 21,
   "metadata": {},
   "outputs": [
    {
     "name": "stdout",
     "output_type": "stream",
     "text": [
      "(32, 32, 3)\n"
     ]
    }
   ],
   "source": [
    "X,y = loadData('train')\n",
    "Xt, yt = loadData('test')\n",
    "print(X[0].shape)"
   ]
  },
  {
   "cell_type": "code",
   "execution_count": 22,
   "metadata": {},
   "outputs": [
    {
     "name": "stdout",
     "output_type": "stream",
     "text": [
      "[[[-0.11970231 -0.13146701 -0.10009446]\n",
      "  [-0.19029054 -0.15891799 -0.17460427]\n",
      "  [-0.19029054 -0.18244741 -0.17460427]\n",
      "  ...\n",
      "  [ 0.03323887  0.00578789 -0.02950623]\n",
      "  [ 0.07245455  0.05284671 -0.02558466]\n",
      "  [ 0.09990554  0.06068985 -0.01774152]]\n",
      "\n",
      " [[-0.13931015 -0.0961729  -0.11185917]\n",
      "  [-0.19421211 -0.15107486 -0.16283956]\n",
      "  [-0.19421211 -0.1706827  -0.18244741]\n",
      "  ...\n",
      "  [-0.09225133 -0.0961729  -0.05303564]\n",
      "  [ 0.01363103 -0.02166309 -0.0451925 ]\n",
      "  [ 0.07637612  0.05676828 -0.01381996]]\n",
      "\n",
      " [[-0.09225133 -0.08832976 -0.10009446]\n",
      "  [-0.17852584 -0.16676113 -0.14715329]\n",
      "  [-0.18636897 -0.18244741 -0.15891799]\n",
      "  ...\n",
      "  [-0.15891799 -0.13538858 -0.07264348]\n",
      "  [-0.11185917 -0.08440819 -0.07656505]\n",
      "  [ 0.03323887  0.02147416 -0.04127094]]\n",
      "\n",
      " ...\n",
      "\n",
      " [[ 0.08814083  0.06853299  0.04500357]\n",
      "  [ 0.0920624   0.07245455  0.0293173 ]\n",
      "  [ 0.07245455  0.06068985  0.00578789]\n",
      "  ...\n",
      "  [ 0.15872906  0.15872906  0.0920624 ]\n",
      "  [ 0.15872906  0.16265063  0.06853299]\n",
      "  [ 0.1548075   0.16265063  0.05676828]]\n",
      "\n",
      " [[ 0.08029769  0.08814083  0.00186632]\n",
      "  [ 0.08814083  0.06068985  0.03323887]\n",
      "  [ 0.07245455  0.04892514  0.03323887]\n",
      "  ...\n",
      "  [ 0.18225848  0.1548075   0.08029769]\n",
      "  [ 0.1665722   0.16265063  0.08421926]\n",
      "  [ 0.1665722   0.15872906  0.08814083]]\n",
      "\n",
      " [[ 0.08421926  0.09598397  0.01755259]\n",
      "  [ 0.09990554  0.07245455  0.03323887]\n",
      "  [ 0.08421926  0.06068985  0.01363103]\n",
      "  ...\n",
      "  [ 0.18618004  0.15872906  0.0920624 ]\n",
      "  [ 0.17833691  0.16265063  0.08814083]\n",
      "  [ 0.1548075   0.1665722   0.06068985]]]\n",
      "(32, 32, 1)\n",
      "(63000, 1)\n",
      "[0]\n"
     ]
    },
    {
     "data": {
      "image/png": "[encoded data removed]",
      "text/plain": [
       "<Figure size 640x480 with 1 Axes>"
      ]
     },
     "metadata": {},
     "output_type": "display_data"
    }
   ],
   "source": [
    "n = len(X)\n",
    "color0 = []\n",
    "color1 = []\n",
    "color2 = []\n",
    "col = []\n",
    "for c, img in enumerate(X):\n",
    "    m = numpy.mean(img)\n",
    "    img = img-m\n",
    "    if c==0:print(img)\n",
    "    col.append(img)\n",
    "    im = numpy.array(img[:,:,0])\n",
    "    color0.append(im.reshape(32,32,1))\n",
    "    #color0.append(img[:,:,0])\n",
    "    im = numpy.array(img[:,:,1])\n",
    "    #color1.append(im.reshape(32,32,1))\n",
    "    color1.append(img[:,:,1])\n",
    "    im = numpy.array(img[:,:,2])\n",
    "    #color2.append(im.reshape(32,32,1))\n",
    "    color2.append(img[:,:,2])\n",
    "#y = y.reshape(n, -1)\n",
    "ytr = y[:63000]\n",
    "yva = y[63000:]\n",
    "color0tr = numpy.array(color0[:63000])\n",
    "color0va = numpy.array(color0[63000:])\n",
    "color1tr = numpy.array(color1[:63000])\n",
    "color1va = numpy.array(color1[63000:])\n",
    "color2tr = numpy.array(color2[:63000])\n",
    "color2va = numpy.array(color2[63000:])\n",
    "coltr = numpy.array(col[:63000])\n",
    "colva = numpy.array(col[63000:])\n",
    "print(color0[0].shape)\n",
    "print(ytr.shape)\n",
    "plt.imshow(color2va[2])\n",
    "print(yva[2])"
   ]
  },
  {
   "cell_type": "code",
   "execution_count": 23,
   "metadata": {},
   "outputs": [
    {
     "name": "stdout",
     "output_type": "stream",
     "text": [
      "Model: \"model_7\"\n",
      "_________________________________________________________________\n",
      " Layer (type)                Output Shape              Param #   \n",
      "=================================================================\n",
      " input_8 (InputLayer)        [(None, 32, 32, 1)]       0         \n",
      "                                                                 \n",
      " conv2d_37 (Conv2D)          (None, 32, 32, 32)        544       \n",
      "                                                                 \n",
      " dropout_27 (Dropout)        (None, 32, 32, 32)        0         \n",
      "                                                                 \n",
      " conv2d_38 (Conv2D)          (None, 32, 32, 32)        16416     \n",
      "                                                                 \n",
      " dropout_28 (Dropout)        (None, 32, 32, 32)        0         \n",
      "                                                                 \n",
      " max_pooling2d_30 (MaxPoolin  (None, 16, 16, 32)       0         \n",
      " g2D)                                                            \n",
      "                                                                 \n",
      " batch_normalization_28 (Bat  (None, 16, 16, 32)       128       \n",
      " chNormalization)                                                \n",
      "                                                                 \n",
      " conv2d_39 (Conv2D)          (None, 16, 16, 128)       36992     \n",
      "                                                                 \n",
      " batch_normalization_29 (Bat  (None, 16, 16, 128)      512       \n",
      " chNormalization)                                                \n",
      "                                                                 \n",
      " dropout_29 (Dropout)        (None, 16, 16, 128)       0         \n",
      "                                                                 \n",
      " max_pooling2d_31 (MaxPoolin  (None, 8, 8, 128)        0         \n",
      " g2D)                                                            \n",
      "                                                                 \n",
      " conv2d_40 (Conv2D)          (None, 8, 8, 64)          32832     \n",
      "                                                                 \n",
      " batch_normalization_30 (Bat  (None, 8, 8, 64)         256       \n",
      " chNormalization)                                                \n",
      "                                                                 \n",
      " max_pooling2d_32 (MaxPoolin  (None, 4, 4, 64)         0         \n",
      " g2D)                                                            \n",
      "                                                                 \n",
      " conv2d_41 (Conv2D)          (None, 4, 4, 64)          36928     \n",
      "                                                                 \n",
      " batch_normalization_31 (Bat  (None, 4, 4, 64)         256       \n",
      " chNormalization)                                                \n",
      "                                                                 \n",
      " dropout_30 (Dropout)        (None, 4, 4, 64)          0         \n",
      "                                                                 \n",
      " max_pooling2d_33 (MaxPoolin  (None, 2, 2, 64)         0         \n",
      " g2D)                                                            \n",
      "                                                                 \n",
      " flatten_7 (Flatten)         (None, 256)               0         \n",
      "                                                                 \n",
      " dense_7 (Dense)             (None, 10)                2570      \n",
      "                                                                 \n",
      "=================================================================\n",
      "Total params: 127,434\n",
      "Trainable params: 126,858\n",
      "Non-trainable params: 576\n",
      "_________________________________________________________________\n"
     ]
    }
   ],
   "source": [
    "inp=Input(shape=(32,32,1))\n",
    "x=Conv2D(filters=32, kernel_size=(4,4), activation='relu', padding='same')(inp)\n",
    "x=Dropout(0.3)(x)\n",
    "x=Conv2D(filters=32, kernel_size=(4,4), activation='relu', padding='same', dilation_rate=(2,2))(x)\n",
    "x=Dropout(0.3)(x)\n",
    "x=MaxPooling2D(pool_size=(2,2), padding='same')(x)\n",
    "x=BatchNormalization(epsilon=0.01)(x)\n",
    "x=Conv2D(filters=128, kernel_size=(3,3), activation='relu', padding='same')(x)\n",
    "x=BatchNormalization(epsilon=0.01)(x)\n",
    "x=Dropout(0.3)(x)\n",
    "x=MaxPooling2D(pool_size=(2,2), padding='same')(x)\n",
    "x=Conv2D(filters=64, kernel_size=(2,2), activation='relu', padding='same' )(x)\n",
    "x=BatchNormalization(epsilon=0.01)(x)\n",
    "x=MaxPooling2D(pool_size=(2,2), padding='same')(x)\n",
    "x=Conv2D(filters = 64, kernel_size=(3,3), activation='relu', padding='same')(x)\n",
    "x=BatchNormalization(epsilon=0.01)(x)\n",
    "x=Dropout(0.3)(x)\n",
    "x=MaxPooling2D(pool_size=(2,2), padding='same')(x)\n",
    "# x=Conv2D(filters = 64, kernel_size=(2,2), activation='relu', padding='same')(x)\n",
    "# x=BatchNormalization(epsilon=0.01)(x)\n",
    "# x=MaxPooling2D(pool_size=(2,2), padding='same')(x)\n",
    "x=Flatten()(x)\n",
    "#x=Dense(10, activation='sigmoid')(x)\n",
    "x = Dense(10, activation='softmax', kernel_regularizer='L2')(x)\n",
    "mod0 = Model(inp, x)\n",
    "mod0.compile(optimizer='Adam', loss='SparseCategoricalCrossentropy', metrics='accuracy')\n",
    "mod0.summary()"
   ]
  },
  {
   "cell_type": "code",
   "execution_count": 44,
   "metadata": {},
   "outputs": [],
   "source": [
    "model = Sequential()\n",
    "model.add(Conv2D(32, (3, 3), padding='same', activation='relu',input_shape=(32, 32, 1)))\n",
    "model.add(BatchNormalization())\n",
    "model.add(Conv2D(32, (3, 3), padding='same', activation='relu'))\n",
    "model.add(MaxPooling2D((2, 2)))\n",
    "model.add(Dropout(0.3))\n",
    "\n",
    "model.add(Conv2D(64, (3, 3), padding='same', activation='relu'))\n",
    "model.add(BatchNormalization())\n",
    "model.add(Conv2D(64, (3, 3), padding='same',activation='relu'))\n",
    "model.add(MaxPooling2D((2, 2)))\n",
    "model.add(Dropout(0.3))\n",
    "\n",
    "model.add(Conv2D(64, (3, 3), padding='same', activation='relu'))\n",
    "model.add(BatchNormalization())\n",
    "model.add(Conv2D(64, (3, 3), padding='same', activation='relu'))\n",
    "model.add(MaxPooling2D((2, 2)))\n",
    "model.add(Dropout(0.3))\n",
    "\n",
    "model.add(Flatten())\n",
    "model.add(Dense(128, activation='relu'))\n",
    "model.add(Dropout(0.4))\n",
    "model.add(Dense(10, activation='softmax',kernel_regularizer='L2'))\n",
    "model.compile(optimizer='Adam', loss='SparseCategoricalCrossentropy', metrics='accuracy')"
   ]
  },
  {
   "cell_type": "code",
   "execution_count": 46,
   "metadata": {},
   "outputs": [
    {
     "name": "stdout",
     "output_type": "stream",
     "text": [
      "Epoch 1/2\n",
      "247/247 [==============================] - 40s 164ms/step - loss: 0.2690 - accuracy: 0.9261 - val_loss: 0.2275 - val_accuracy: 0.9405\n",
      "Epoch 2/2\n",
      "247/247 [==============================] - 42s 169ms/step - loss: 0.2566 - accuracy: 0.9307 - val_loss: 0.2271 - val_accuracy: 0.9400\n"
     ]
    },
    {
     "data": {
      "text/plain": [
       "<keras.callbacks.History at 0x348e260e0>"
      ]
     },
     "execution_count": 46,
     "metadata": {},
     "output_type": "execute_result"
    }
   ],
   "source": [
    "model.fit(color0tr, ytr, epochs=2, batch_size=256, shuffle=True, validation_data=(color0va, yva))"
   ]
  },
  {
   "cell_type": "code",
   "execution_count": 24,
   "metadata": {},
   "outputs": [
    {
     "name": "stdout",
     "output_type": "stream",
     "text": [
      "Epoch 1/6\n",
      "985/985 [==============================] - 85s 86ms/step - loss: 0.9997 - accuracy: 0.7258 - val_loss: 0.6504 - val_accuracy: 0.8121\n",
      "Epoch 2/6\n",
      "985/985 [==============================] - 82s 84ms/step - loss: 0.4891 - accuracy: 0.8707 - val_loss: 0.4577 - val_accuracy: 0.8794\n",
      "Epoch 3/6\n",
      "985/985 [==============================] - 81s 82ms/step - loss: 0.3954 - accuracy: 0.8923 - val_loss: 0.3664 - val_accuracy: 0.9031\n",
      "Epoch 4/6\n",
      "985/985 [==============================] - 83s 84ms/step - loss: 0.3491 - accuracy: 0.9058 - val_loss: 0.3480 - val_accuracy: 0.9086\n",
      "Epoch 5/6\n",
      "985/985 [==============================] - 83s 85ms/step - loss: 0.3220 - accuracy: 0.9129 - val_loss: 0.3393 - val_accuracy: 0.9077\n",
      "Epoch 6/6\n",
      "985/985 [==============================] - 83s 84ms/step - loss: 0.3024 - accuracy: 0.9184 - val_loss: 0.3475 - val_accuracy: 0.9045\n",
      "Epoch 1/2\n",
      "493/493 [==============================] - 71s 144ms/step - loss: 0.2531 - accuracy: 0.9329 - val_loss: 0.2826 - val_accuracy: 0.9259\n",
      "Epoch 2/2\n",
      "493/493 [==============================] - 71s 145ms/step - loss: 0.2368 - accuracy: 0.9384 - val_loss: 0.2984 - val_accuracy: 0.9210\n",
      "Epoch 1/2\n",
      "247/247 [==============================] - 63s 254ms/step - loss: 0.2129 - accuracy: 0.9447 - val_loss: 0.2739 - val_accuracy: 0.9278\n",
      "Epoch 2/2\n",
      "247/247 [==============================] - 62s 253ms/step - loss: 0.2041 - accuracy: 0.9472 - val_loss: 0.2744 - val_accuracy: 0.9272\n",
      "Epoch 1/2\n",
      "124/124 [==============================] - 61s 489ms/step - loss: 0.1920 - accuracy: 0.9509 - val_loss: 0.2711 - val_accuracy: 0.9306\n",
      "Epoch 2/2\n",
      "124/124 [==============================] - 60s 487ms/step - loss: 0.1821 - accuracy: 0.9543 - val_loss: 0.2686 - val_accuracy: 0.9296\n"
     ]
    },
    {
     "data": {
      "text/plain": [
       "<keras.callbacks.History at 0x33ff64fd0>"
      ]
     },
     "execution_count": 24,
     "metadata": {},
     "output_type": "execute_result"
    }
   ],
   "source": [
    "mod0.fit(color0tr, ytr, epochs=6, batch_size=64, shuffle=True, validation_data=(color0va, yva))\n",
    "mod0.fit(color0tr, ytr, epochs=2, batch_size=128, shuffle=True, validation_data=(color0va, yva))\n",
    "mod0.fit(color0tr, ytr, epochs=2, batch_size=256, shuffle=True, validation_data=(color0va, yva))\n",
    "mod0.fit(color0tr, ytr, epochs=2, batch_size=512, shuffle=True, validation_data=(color0va, yva))"
   ]
  },
  {
   "cell_type": "code",
   "execution_count": 51,
   "metadata": {},
   "outputs": [
    {
     "name": "stdout",
     "output_type": "stream",
     "text": [
      "Model: \"model_11\"\n",
      "_________________________________________________________________\n",
      " Layer (type)                Output Shape              Param #   \n",
      "=================================================================\n",
      " input_12 (InputLayer)       [(None, 32, 32, 1)]       0         \n",
      "                                                                 \n",
      " conv2d_75 (Conv2D)          (None, 32, 32, 32)        544       \n",
      "                                                                 \n",
      " dropout_55 (Dropout)        (None, 32, 32, 32)        0         \n",
      "                                                                 \n",
      " conv2d_76 (Conv2D)          (None, 32, 32, 32)        16416     \n",
      "                                                                 \n",
      " dropout_56 (Dropout)        (None, 32, 32, 32)        0         \n",
      "                                                                 \n",
      " max_pooling2d_55 (MaxPoolin  (None, 16, 16, 32)       0         \n",
      " g2D)                                                            \n",
      "                                                                 \n",
      " batch_normalization_53 (Bat  (None, 16, 16, 32)       128       \n",
      " chNormalization)                                                \n",
      "                                                                 \n",
      " conv2d_77 (Conv2D)          (None, 16, 16, 128)       36992     \n",
      "                                                                 \n",
      " batch_normalization_54 (Bat  (None, 16, 16, 128)      512       \n",
      " chNormalization)                                                \n",
      "                                                                 \n",
      " dropout_57 (Dropout)        (None, 16, 16, 128)       0         \n",
      "                                                                 \n",
      " max_pooling2d_56 (MaxPoolin  (None, 8, 8, 128)        0         \n",
      " g2D)                                                            \n",
      "                                                                 \n",
      " conv2d_78 (Conv2D)          (None, 8, 8, 64)          32832     \n",
      "                                                                 \n",
      " batch_normalization_55 (Bat  (None, 8, 8, 64)         256       \n",
      " chNormalization)                                                \n",
      "                                                                 \n",
      " max_pooling2d_57 (MaxPoolin  (None, 4, 4, 64)         0         \n",
      " g2D)                                                            \n",
      "                                                                 \n",
      " conv2d_79 (Conv2D)          (None, 4, 4, 64)          36928     \n",
      "                                                                 \n",
      " batch_normalization_56 (Bat  (None, 4, 4, 64)         256       \n",
      " chNormalization)                                                \n",
      "                                                                 \n",
      " dropout_58 (Dropout)        (None, 4, 4, 64)          0         \n",
      "                                                                 \n",
      " max_pooling2d_58 (MaxPoolin  (None, 2, 2, 64)         0         \n",
      " g2D)                                                            \n",
      "                                                                 \n",
      " flatten_14 (Flatten)        (None, 256)               0         \n",
      "                                                                 \n",
      " dense_17 (Dense)            (None, 10)                2570      \n",
      "                                                                 \n",
      "=================================================================\n",
      "Total params: 127,434\n",
      "Trainable params: 126,858\n",
      "Non-trainable params: 576\n",
      "_________________________________________________________________\n"
     ]
    }
   ],
   "source": [
    "inp=Input(shape=(32,32,1))\n",
    "x=Conv2D(filters=32, kernel_size=(4,4), activation='relu', padding='same')(inp)\n",
    "x=Dropout(0.3)(x)\n",
    "x=Conv2D(filters=32, kernel_size=(4,4), activation='relu', padding='same', dilation_rate=(2,2))(x)\n",
    "x=Dropout(0.3)(x)\n",
    "x=MaxPooling2D(pool_size=(2,2), padding='same')(x)\n",
    "x=BatchNormalization(epsilon=0.01)(x)\n",
    "x=Conv2D(filters=128, kernel_size=(3,3), activation='relu', padding='same')(x)\n",
    "x=BatchNormalization(epsilon=0.01)(x)\n",
    "x=Dropout(0.3)(x)\n",
    "x=MaxPooling2D(pool_size=(2,2), padding='same')(x)\n",
    "x=Conv2D(filters=64, kernel_size=(2,2), activation='relu', padding='same' )(x)\n",
    "x=BatchNormalization(epsilon=0.01)(x)\n",
    "x=MaxPooling2D(pool_size=(2,2), padding='same')(x)\n",
    "x=Conv2D(filters = 64, kernel_size=(3,3), activation='relu', padding='same')(x)\n",
    "x=BatchNormalization(epsilon=0.01)(x)\n",
    "x=Dropout(0.3)(x)\n",
    "x=MaxPooling2D(pool_size=(2,2), padding='same')(x)\n",
    "# x=Conv2D(filters = 64, kernel_size=(2,2), activation='relu', padding='same')(x)\n",
    "# x=BatchNormalization(epsilon=0.01)(x)\n",
    "# x=MaxPooling2D(pool_size=(2,2), padding='same')(x)\n",
    "x=Flatten()(x)\n",
    "#x=Dense(10, activation='sigmoid')(x)\n",
    "x = Dense(10, activation='softmax', kernel_regularizer='L2')(x)\n",
    "mod1 = Model(inp, x)\n",
    "mod1.compile(optimizer='Adam', loss='SparseCategoricalCrossentropy', metrics='accuracy', )\n",
    "mod1.summary()"
   ]
  },
  {
   "cell_type": "code",
   "execution_count": 53,
   "metadata": {},
   "outputs": [],
   "source": [
    "model1 = Sequential()\n",
    "model1.add(Conv2D(32, (3, 3), padding='same', activation='relu',input_shape=(32, 32, 1)))\n",
    "model1.add(BatchNormalization())\n",
    "model1.add(Conv2D(32, (3, 3), padding='same', activation='relu'))\n",
    "model1.add(MaxPooling2D((2, 2)))\n",
    "model1.add(Dropout(0.3))\n",
    "\n",
    "model1.add(Conv2D(64, (3, 3), padding='same', activation='relu'))\n",
    "model1.add(BatchNormalization())\n",
    "model1.add(Conv2D(64, (3, 3), padding='same',activation='relu'))\n",
    "model1.add(MaxPooling2D((2, 2)))\n",
    "model1.add(Dropout(0.3))\n",
    "\n",
    "model1.add(Conv2D(64, (3, 3), padding='same', activation='relu'))\n",
    "model1.add(BatchNormalization())\n",
    "model1.add(Conv2D(64, (3, 3), padding='same', activation='relu'))\n",
    "model1.add(MaxPooling2D((2, 2)))\n",
    "model1.add(Dropout(0.3))\n",
    "\n",
    "model1.add(Flatten())\n",
    "model1.add(Dense(128, activation='relu'))\n",
    "model1.add(Dropout(0.4))\n",
    "model1.add(Dense(10, activation='softmax',kernel_regularizer='L2'))\n",
    "model1.compile(optimizer='Adam', loss='SparseCategoricalCrossentropy', metrics='accuracy')"
   ]
  },
  {
   "cell_type": "code",
   "execution_count": 56,
   "metadata": {},
   "outputs": [
    {
     "name": "stdout",
     "output_type": "stream",
     "text": [
      "Epoch 1/3\n",
      "247/247 [==============================] - 40s 163ms/step - loss: 0.2540 - accuracy: 0.9303 - val_loss: 0.2196 - val_accuracy: 0.9430\n",
      "Epoch 2/3\n",
      "247/247 [==============================] - 40s 163ms/step - loss: 0.2397 - accuracy: 0.9349 - val_loss: 0.2165 - val_accuracy: 0.9451\n",
      "Epoch 3/3\n",
      "247/247 [==============================] - 40s 162ms/step - loss: 0.2270 - accuracy: 0.9390 - val_loss: 0.2168 - val_accuracy: 0.9438\n"
     ]
    },
    {
     "data": {
      "text/plain": [
       "<keras.callbacks.History at 0x35d644ee0>"
      ]
     },
     "execution_count": 56,
     "metadata": {},
     "output_type": "execute_result"
    }
   ],
   "source": [
    "model1.fit(color1tr, ytr, epochs=3, batch_size=256, shuffle=True, validation_data=(color1va, yva))"
   ]
  },
  {
   "cell_type": "code",
   "execution_count": 26,
   "metadata": {},
   "outputs": [
    {
     "name": "stdout",
     "output_type": "stream",
     "text": [
      "Epoch 1/6\n",
      "985/985 [==============================] - 80s 81ms/step - loss: 1.0210 - accuracy: 0.7203 - val_loss: 0.6074 - val_accuracy: 0.8558\n",
      "Epoch 2/6\n",
      "985/985 [==============================] - 80s 81ms/step - loss: 0.4868 - accuracy: 0.8711 - val_loss: 0.4704 - val_accuracy: 0.8716\n",
      "Epoch 3/6\n",
      "985/985 [==============================] - 80s 81ms/step - loss: 0.3887 - accuracy: 0.8947 - val_loss: 0.3782 - val_accuracy: 0.8972\n",
      "Epoch 4/6\n",
      "985/985 [==============================] - 79s 81ms/step - loss: 0.3449 - accuracy: 0.9063 - val_loss: 0.3392 - val_accuracy: 0.9117\n",
      "Epoch 5/6\n",
      "985/985 [==============================] - 80s 81ms/step - loss: 0.3145 - accuracy: 0.9155 - val_loss: 0.3407 - val_accuracy: 0.9083\n",
      "Epoch 6/6\n",
      "985/985 [==============================] - 79s 80ms/step - loss: 0.2924 - accuracy: 0.9219 - val_loss: 0.3126 - val_accuracy: 0.9172\n",
      "Epoch 1/2\n",
      "493/493 [==============================] - 68s 138ms/step - loss: 0.2480 - accuracy: 0.9342 - val_loss: 0.2781 - val_accuracy: 0.9292\n",
      "Epoch 2/2\n",
      "493/493 [==============================] - 68s 137ms/step - loss: 0.2330 - accuracy: 0.9393 - val_loss: 0.2742 - val_accuracy: 0.9286\n",
      "Epoch 1/2\n",
      "247/247 [==============================] - 62s 250ms/step - loss: 0.2104 - accuracy: 0.9459 - val_loss: 0.2585 - val_accuracy: 0.9346\n",
      "Epoch 2/2\n",
      "247/247 [==============================] - 63s 255ms/step - loss: 0.2004 - accuracy: 0.9488 - val_loss: 0.2634 - val_accuracy: 0.9309\n",
      "Epoch 1/3\n",
      "124/124 [==============================] - 59s 476ms/step - loss: 0.1865 - accuracy: 0.9533 - val_loss: 0.2532 - val_accuracy: 0.9363\n",
      "Epoch 2/3\n",
      "124/124 [==============================] - 59s 478ms/step - loss: 0.1813 - accuracy: 0.9545 - val_loss: 0.2561 - val_accuracy: 0.9351\n",
      "Epoch 3/3\n",
      "124/124 [==============================] - 59s 477ms/step - loss: 0.1768 - accuracy: 0.9562 - val_loss: 0.2536 - val_accuracy: 0.9344\n"
     ]
    },
    {
     "data": {
      "text/plain": [
       "<keras.callbacks.History at 0x488beea40>"
      ]
     },
     "execution_count": 26,
     "metadata": {},
     "output_type": "execute_result"
    }
   ],
   "source": [
    "mod1.fit(color1tr, ytr, epochs=6, batch_size=64, shuffle=True, validation_data=(color1va, yva))\n",
    "mod1.fit(color1tr, ytr, epochs=2, batch_size=128, shuffle=True, validation_data=(color1va, yva))\n",
    "mod1.fit(color1tr, ytr, epochs=2, batch_size=256, shuffle=True, validation_data=(color1va, yva))\n",
    "mod1.fit(color1tr, ytr, epochs=3, batch_size=512, shuffle=True, validation_data=(color1va, yva))"
   ]
  },
  {
   "cell_type": "markdown",
   "metadata": {},
   "source": []
  },
  {
   "cell_type": "code",
   "execution_count": 27,
   "metadata": {},
   "outputs": [
    {
     "name": "stdout",
     "output_type": "stream",
     "text": [
      "Model: \"model_9\"\n",
      "_________________________________________________________________\n",
      " Layer (type)                Output Shape              Param #   \n",
      "=================================================================\n",
      " input_10 (InputLayer)       [(None, 32, 32, 1)]       0         \n",
      "                                                                 \n",
      " conv2d_47 (Conv2D)          (None, 32, 32, 32)        544       \n",
      "                                                                 \n",
      " dropout_35 (Dropout)        (None, 32, 32, 32)        0         \n",
      "                                                                 \n",
      " conv2d_48 (Conv2D)          (None, 32, 32, 32)        16416     \n",
      "                                                                 \n",
      " dropout_36 (Dropout)        (None, 32, 32, 32)        0         \n",
      "                                                                 \n",
      " max_pooling2d_38 (MaxPoolin  (None, 16, 16, 32)       0         \n",
      " g2D)                                                            \n",
      "                                                                 \n",
      " batch_normalization_36 (Bat  (None, 16, 16, 32)       128       \n",
      " chNormalization)                                                \n",
      "                                                                 \n",
      " conv2d_49 (Conv2D)          (None, 16, 16, 128)       36992     \n",
      "                                                                 \n",
      " batch_normalization_37 (Bat  (None, 16, 16, 128)      512       \n",
      " chNormalization)                                                \n",
      "                                                                 \n",
      " dropout_37 (Dropout)        (None, 16, 16, 128)       0         \n",
      "                                                                 \n",
      " max_pooling2d_39 (MaxPoolin  (None, 8, 8, 128)        0         \n",
      " g2D)                                                            \n",
      "                                                                 \n",
      " conv2d_50 (Conv2D)          (None, 8, 8, 64)          32832     \n",
      "                                                                 \n",
      " batch_normalization_38 (Bat  (None, 8, 8, 64)         256       \n",
      " chNormalization)                                                \n",
      "                                                                 \n",
      " max_pooling2d_40 (MaxPoolin  (None, 4, 4, 64)         0         \n",
      " g2D)                                                            \n",
      "                                                                 \n",
      " conv2d_51 (Conv2D)          (None, 4, 4, 64)          36928     \n",
      "                                                                 \n",
      " batch_normalization_39 (Bat  (None, 4, 4, 64)         256       \n",
      " chNormalization)                                                \n",
      "                                                                 \n",
      " dropout_38 (Dropout)        (None, 4, 4, 64)          0         \n",
      "                                                                 \n",
      " max_pooling2d_41 (MaxPoolin  (None, 2, 2, 64)         0         \n",
      " g2D)                                                            \n",
      "                                                                 \n",
      " flatten_9 (Flatten)         (None, 256)               0         \n",
      "                                                                 \n",
      " dense_9 (Dense)             (None, 10)                2570      \n",
      "                                                                 \n",
      "=================================================================\n",
      "Total params: 127,434\n",
      "Trainable params: 126,858\n",
      "Non-trainable params: 576\n",
      "_________________________________________________________________\n"
     ]
    }
   ],
   "source": [
    "inp=Input(shape=(32,32,1))\n",
    "x=Conv2D(filters=32, kernel_size=(4,4), activation='relu', padding='same')(inp)\n",
    "x=Dropout(0.25)(x)\n",
    "x=Conv2D(filters=32, kernel_size=(4,4), activation='relu', padding='same', dilation_rate=(2,2))(x)\n",
    "x=Dropout(0.25)(x)\n",
    "x=MaxPooling2D(pool_size=(2,2), padding='same')(x)\n",
    "x=BatchNormalization(epsilon=0.01)(x)\n",
    "x=Conv2D(filters=128, kernel_size=(3,3), activation='relu', padding='same')(x)\n",
    "x=BatchNormalization(epsilon=0.01)(x)\n",
    "x=Dropout(0.3)(x)\n",
    "x=MaxPooling2D(pool_size=(2,2), padding='same')(x)\n",
    "x=Conv2D(filters=64, kernel_size=(2,2), activation='relu', padding='same' )(x)\n",
    "x=BatchNormalization(epsilon=0.01)(x)\n",
    "x=MaxPooling2D(pool_size=(2,2), padding='same')(x)\n",
    "x=Conv2D(filters = 64, kernel_size=(3,3), activation='relu', padding='same')(x)\n",
    "x=BatchNormalization(epsilon=0.01)(x)\n",
    "x=Dropout(0.3)(x)\n",
    "x=MaxPooling2D(pool_size=(2,2), padding='same')(x)\n",
    "# x=Conv2D(filters = 64, kernel_size=(2,2), activation='relu', padding='same')(x)\n",
    "# x=BatchNormalization(epsilon=0.01)(x)\n",
    "# x=MaxPooling2D(pool_size=(2,2), padding='same')(x)\n",
    "x=Flatten()(x)\n",
    "#x=Dense(10, activation='sigmoid')(x)\n",
    "x = Dense(10, activation='softmax', kernel_regularizer='L2')(x)\n",
    "mod2 = Model(inp, x)\n",
    "mod2.compile(optimizer='Adam', loss='SparseCategoricalCrossentropy', metrics='accuracy')\n",
    "mod2.summary()"
   ]
  },
  {
   "cell_type": "code",
   "execution_count": 37,
   "metadata": {},
   "outputs": [
    {
     "name": "stdout",
     "output_type": "stream",
     "text": [
      "Epoch 1/3\n",
      "124/124 [==============================] - 59s 479ms/step - loss: 0.1849 - accuracy: 0.9520 - val_loss: 0.2824 - val_accuracy: 0.9242\n",
      "Epoch 2/3\n",
      "124/124 [==============================] - 60s 480ms/step - loss: 0.1815 - accuracy: 0.9530 - val_loss: 0.2906 - val_accuracy: 0.9203\n",
      "Epoch 3/3\n",
      "124/124 [==============================] - 94s 763ms/step - loss: 0.1859 - accuracy: 0.9504 - val_loss: 0.2915 - val_accuracy: 0.9198\n"
     ]
    },
    {
     "data": {
      "text/plain": [
       "<keras.callbacks.History at 0x3429ed9c0>"
      ]
     },
     "execution_count": 37,
     "metadata": {},
     "output_type": "execute_result"
    }
   ],
   "source": [
    "# mod2.fit(color2tr, ytr, epochs=6, batch_size=64, shuffle=True, validation_data=(color2va, yva))\n",
    "# mod2.fit(color2tr, ytr, epochs=2, batch_size=128, shuffle=True, validation_data=(color2va, yva))\n",
    "# mod2.fit(color2tr, ytr, epochs=2, batch_size=256, shuffle=True, validation_data=(color2va, yva))\n",
    "mod2.fit(color2tr, ytr, epochs=3, batch_size=512, shuffle=True, validation_data=(color2va, yva))"
   ]
  },
  {
   "cell_type": "code",
   "execution_count": 29,
   "metadata": {},
   "outputs": [],
   "source": [
    "def combine(col0,col1,col2):\n",
    "    ret = []\n",
    "    for c0,c1,c2 in zip(col0,col1,col2):\n",
    "        t = []\n",
    "        t.append((max(c0), numpy.argmax(c0)))\n",
    "        t.append((max(c1), numpy.argmax(c1)))\n",
    "        t.append((max(c2), numpy.argmax(c2)))\n",
    "        t.sort(key=lambda x:-x[0])\n",
    "        ret.append(t[0][1])\n",
    "    return ret"
   ]
  },
  {
   "cell_type": "markdown",
   "metadata": {},
   "source": []
  },
  {
   "cell_type": "code",
   "execution_count": 58,
   "metadata": {},
   "outputs": [
    {
     "name": "stdout",
     "output_type": "stream",
     "text": [
      "321/321 [==============================] - 4s 12ms/step\n",
      "321/321 [==============================] - 4s 12ms/step\n",
      "321/321 [==============================] - 5s 14ms/step\n"
     ]
    }
   ],
   "source": [
    "col0pred = model.predict(color0va)\n",
    "col1pred = model1.predict(color1va)\n",
    "col2pred = mod2.predict(color2va)\n",
    "predictions = combine(col0pred, col1pred, col2pred)"
   ]
  },
  {
   "cell_type": "code",
   "execution_count": 31,
   "metadata": {},
   "outputs": [],
   "source": [
    "def calculateAccuracy(pred, lab):\n",
    "    if len(pred)!=len(lab):\n",
    "        print(f\"Wrong dimentions: {len(pred)}!={len(lab)}\")\n",
    "        return\n",
    "    else:\n",
    "        n = len(pred)\n",
    "        sm = sum([1 if pred[i]==lab[i] else 0 for i in range(n) ])\n",
    "        return sm/n\n"
   ]
  },
  {
   "cell_type": "markdown",
   "metadata": {},
   "source": [
    "results:"
   ]
  },
  {
   "cell_type": "code",
   "execution_count": 59,
   "metadata": {},
   "outputs": [
    {
     "name": "stdout",
     "output_type": "stream",
     "text": [
      "accuracy: 0.9469630496246466\n"
     ]
    }
   ],
   "source": [
    "#accuracy score\n",
    "#calculated by choosing max probability\n",
    "print(f\"accuracy: {calculateAccuracy(predictions, yva)}\")"
   ]
  },
  {
   "cell_type": "code",
   "execution_count": 33,
   "metadata": {},
   "outputs": [],
   "source": [
    "# inp=Input(shape=(32,32,3))\n",
    "# x=Conv2D(filters=24, kernel_size=(4,4), activation='relu', padding='same')(inp)\n",
    "# x=BatchNormalization(epsilon=0.01)(x)\n",
    "# x=Dropout(0.3)(x)\n",
    "# x=MaxPooling2D(pool_size=(2,2), padding='same')(x)\n",
    "# x=Conv2D(filters=32, kernel_size=(4,4), activation='relu', padding='same')(inp)\n",
    "# x=BatchNormalization(epsilon=0.01)(x)\n",
    "# x=Dropout(0.3)(x)\n",
    "# x=MaxPooling2D(pool_size=(2,2), padding='same')(x)\n",
    "# x=Conv2D(filters=64, kernel_size=(3,3), activation='relu', padding='same' )(x)\n",
    "# x=BatchNormalization(epsilon=0.01)(x)\n",
    "# x=MaxPooling2D(pool_size=(2,2), padding='same')(x)\n",
    "# x=Conv2D(filters = 128, kernel_size=(3,3), activation='relu', padding='same')(x)\n",
    "# x=BatchNormalization(epsilon=0.01)(x)\n",
    "# x=MaxPooling2D(pool_size=(2,2), padding='same')(x)\n",
    "# x=Conv2D(filters = 128, kernel_size=(2,2), activation='relu', padding='same')(x)\n",
    "# x=BatchNormalization(epsilon=0.01)(x)\n",
    "# x=MaxPooling2D(pool_size=(2,2), padding='same')(x)\n",
    "# x=Flatten()(x)\n",
    "# #x=Dense(10, activation='sigmoid')(x)\n",
    "# x = Dense(10, activation='softmax', kernel_regularizer='L2')(x)\n",
    "# mod1 = Model(inp, x)\n",
    "# mod1.compile(optimizer='Adam', loss='SparseCategoricalCrossentropy', metrics='accuracy', )\n",
    "# mod1.summary()"
   ]
  },
  {
   "cell_type": "code",
   "execution_count": 34,
   "metadata": {},
   "outputs": [],
   "source": [
    "#print(X[:63000].shape)"
   ]
  },
  {
   "cell_type": "code",
   "execution_count": 35,
   "metadata": {},
   "outputs": [],
   "source": [
    "##mod1.fit(X, y,epochs=5, batch_size=1024, shuffle=True, validation_data=(Xt, yt) )"
   ]
  }
 ],
 "metadata": {
  "kernelspec": {
   "display_name": "Python 3.10.8 ('cs178')",
   "language": "python",
   "name": "python3"
  },
  "language_info": {
   "codemirror_mode": {
    "name": "ipython",
    "version": 3
   },
   "file_extension": ".py",
   "mimetype": "text/x-python",
   "name": "python",
   "nbconvert_exporter": "python",
   "pygments_lexer": "ipython3",
   "version": "3.10.8"
  },
  "orig_nbformat": 4,
  "vscode": {
   "interpreter": {
    "hash": "38c762ab130bd88fd467ed819ac0e6ce94c03cd3cf47821307e691fea32fd23e"
   }
  }
 },
 "nbformat": 4,
 "nbformat_minor": 2
}
