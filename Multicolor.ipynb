{
 "cells": [
  {
   "cell_type": "code",
   "execution_count": 35,
   "metadata": {},
   "outputs": [],
   "source": [
    "import numpy, os\n",
    "from scipy.stats import mode\n",
    "from keras.models import Model, Sequential\n",
    "import matplotlib.pyplot as plt\n",
    "from keras.utils import load_img\n",
    "from keras.layers import Input, Dense, Conv2D, UpSampling2D, Conv2DTranspose, Flatten, MaxPooling2D\n",
    "from helpers import loadData"
   ]
  },
  {
   "cell_type": "code",
   "execution_count": 2,
   "metadata": {},
   "outputs": [
    {
     "name": "stdout",
     "output_type": "stream",
     "text": [
      "(32, 32, 3)\n"
     ]
    }
   ],
   "source": [
    "X,y = loadData('train')\n",
    "print(X[0].shape)"
   ]
  },
  {
   "cell_type": "code",
   "execution_count": 87,
   "metadata": {},
   "outputs": [
    {
     "name": "stdout",
     "output_type": "stream",
     "text": [
      "(32, 32, 1)\n",
      "(63000, 1)\n"
     ]
    },
    {
     "data": {
      "text/plain": [
       "<matplotlib.image.AxesImage at 0x4c33d4160>"
      ]
     },
     "execution_count": 87,
     "metadata": {},
     "output_type": "execute_result"
    },
    {
     "data": {
      "image/png": "[encoded data removed]",
      "text/plain": [
       "<Figure size 640x480 with 1 Axes>"
      ]
     },
     "metadata": {},
     "output_type": "display_data"
    }
   ],
   "source": [
    "n = len(X)\n",
    "color0 = []\n",
    "color1 = []\n",
    "color2 = []\n",
    "for c, img in enumerate(X):\n",
    "    im = numpy.array(img[:,:,0])\n",
    "    color0.append(im.reshape(32,32,1))\n",
    "    #color0.append(img[:,:,0])\n",
    "    im = numpy.array(img[:,:,1])\n",
    "    #color1.append(im.reshape(32,32,1))\n",
    "    color1.append(img[:,:,1])\n",
    "    im = numpy.array(img[:,:,2])\n",
    "    #color2.append(im.reshape(32,32,1))\n",
    "    color2.append(img[:,:,2])\n",
    "#y = y.reshape(n, -1)\n",
    "ytr = y[:63000]\n",
    "yva = y[63000:]\n",
    "color0tr = numpy.array(color0[:63000])\n",
    "color0va = numpy.array(color0[63000:])\n",
    "color1tr = numpy.array(color1[:63000])\n",
    "color1va = numpy.array(color1[63000:])\n",
    "color2tr = numpy.array(color2[:63000])\n",
    "color2va = numpy.array(color2[63000:])\n",
    "print(color0[0].shape)\n",
    "print(ytr.shape)\n",
    "plt.imshow(color2va[0])"
   ]
  },
  {
   "cell_type": "code",
   "execution_count": 139,
   "metadata": {},
   "outputs": [
    {
     "name": "stdout",
     "output_type": "stream",
     "text": [
      "Model: \"model_56\"\n",
      "_________________________________________________________________\n",
      " Layer (type)                Output Shape              Param #   \n",
      "=================================================================\n",
      " input_57 (InputLayer)       [(None, 32, 32, 1)]       0         \n",
      "                                                                 \n",
      " conv2d_168 (Conv2D)         (None, 32, 32, 64)        1664      \n",
      "                                                                 \n",
      " max_pooling2d_168 (MaxPooli  (None, 16, 16, 64)       0         \n",
      " ng2D)                                                           \n",
      "                                                                 \n",
      " conv2d_169 (Conv2D)         (None, 16, 16, 32)        18464     \n",
      "                                                                 \n",
      " max_pooling2d_169 (MaxPooli  (None, 8, 8, 32)         0         \n",
      " ng2D)                                                           \n",
      "                                                                 \n",
      " conv2d_170 (Conv2D)         (None, 8, 8, 32)          4128      \n",
      "                                                                 \n",
      " max_pooling2d_170 (MaxPooli  (None, 4, 4, 32)         0         \n",
      " ng2D)                                                           \n",
      "                                                                 \n",
      " flatten_56 (Flatten)        (None, 512)               0         \n",
      "                                                                 \n",
      " dense_67 (Dense)            (None, 10)                5130      \n",
      "                                                                 \n",
      "=================================================================\n",
      "Total params: 29,386\n",
      "Trainable params: 29,386\n",
      "Non-trainable params: 0\n",
      "_________________________________________________________________\n"
     ]
    }
   ],
   "source": [
    "inp=Input(shape=(32,32,1))\n",
    "x=Conv2D(filters=64, kernel_size=(5,5), activation='relu', padding='same' )(inp)\n",
    "x=MaxPooling2D(pool_size=(2,2), padding='same')(x)\n",
    "x=Conv2D(filters = 32, kernel_size=(3,3), activation='relu', padding='same')(x)\n",
    "x=MaxPooling2D(pool_size=(2,2), padding='same')(x)\n",
    "x=Conv2D(filters = 32, kernel_size=(2,2), activation='relu', padding='same')(x)\n",
    "x=MaxPooling2D(pool_size=(2,2), padding='same')(x)\n",
    "x=Flatten()(x)\n",
    "#x=Dense(10, activation='sigmoid')(x)\n",
    "x = Dense(10, activation='softmax')(x)\n",
    "mod0 = Model(inp, x)\n",
    "mod0.compile(optimizer='Adam', loss='SparseCategoricalCrossentropy', metrics='accuracy')\n",
    "mod0.summary()"
   ]
  },
  {
   "cell_type": "code",
   "execution_count": 151,
   "metadata": {},
   "outputs": [
    {
     "name": "stdout",
     "output_type": "stream",
     "text": [
      "Epoch 1/2\n",
      "985/985 [==============================] - 22s 23ms/step - loss: 0.3008 - accuracy: 0.9112 - val_loss: 0.4096 - val_accuracy: 0.8845\n",
      "Epoch 2/2\n",
      "985/985 [==============================] - 22s 22ms/step - loss: 0.2960 - accuracy: 0.9119 - val_loss: 0.4141 - val_accuracy: 0.8845\n"
     ]
    },
    {
     "data": {
      "text/plain": [
       "<keras.callbacks.History at 0x5798b7580>"
      ]
     },
     "execution_count": 151,
     "metadata": {},
     "output_type": "execute_result"
    }
   ],
   "source": [
    "mod0.fit(color0tr, ytr, epochs=50, batch_size=64, shuffle=True, validation_data=(color0va, yva))"
   ]
  },
  {
   "cell_type": "code",
   "execution_count": 141,
   "metadata": {},
   "outputs": [
    {
     "name": "stdout",
     "output_type": "stream",
     "text": [
      "Model: \"model_57\"\n",
      "_________________________________________________________________\n",
      " Layer (type)                Output Shape              Param #   \n",
      "=================================================================\n",
      " input_58 (InputLayer)       [(None, 32, 32, 1)]       0         \n",
      "                                                                 \n",
      " conv2d_171 (Conv2D)         (None, 32, 32, 64)        1664      \n",
      "                                                                 \n",
      " max_pooling2d_171 (MaxPooli  (None, 16, 16, 64)       0         \n",
      " ng2D)                                                           \n",
      "                                                                 \n",
      " conv2d_172 (Conv2D)         (None, 16, 16, 32)        18464     \n",
      "                                                                 \n",
      " max_pooling2d_172 (MaxPooli  (None, 8, 8, 32)         0         \n",
      " ng2D)                                                           \n",
      "                                                                 \n",
      " conv2d_173 (Conv2D)         (None, 8, 8, 32)          4128      \n",
      "                                                                 \n",
      " max_pooling2d_173 (MaxPooli  (None, 4, 4, 32)         0         \n",
      " ng2D)                                                           \n",
      "                                                                 \n",
      " flatten_57 (Flatten)        (None, 512)               0         \n",
      "                                                                 \n",
      " dense_68 (Dense)            (None, 10)                5130      \n",
      "                                                                 \n",
      "=================================================================\n",
      "Total params: 29,386\n",
      "Trainable params: 29,386\n",
      "Non-trainable params: 0\n",
      "_________________________________________________________________\n"
     ]
    }
   ],
   "source": [
    "inp=Input(shape=(32,32,1))\n",
    "x=Conv2D(filters=64, kernel_size=(5,5), activation='relu', padding='same' )(inp)\n",
    "x=MaxPooling2D(pool_size=(2,2), padding='same')(x)\n",
    "x=Conv2D(filters = 32, kernel_size=(3,3), activation='relu', padding='same')(x)\n",
    "x=MaxPooling2D(pool_size=(2,2), padding='same')(x)\n",
    "x=Conv2D(filters = 32, kernel_size=(2,2), activation='relu', padding='same')(x)\n",
    "x=MaxPooling2D(pool_size=(2,2), padding='same')(x)\n",
    "x=Flatten()(x)\n",
    "#x=Dense(10, activation='sigmoid')(x)\n",
    "x = Dense(10, activation='softmax')(x)\n",
    "mod1 = Model(inp, x)\n",
    "mod1.compile(optimizer='Adam', loss='SparseCategoricalCrossentropy', metrics='accuracy')\n",
    "mod1.summary()"
   ]
  },
  {
   "cell_type": "code",
   "execution_count": 152,
   "metadata": {},
   "outputs": [
    {
     "name": "stdout",
     "output_type": "stream",
     "text": [
      "Epoch 1/2\n",
      "493/493 [==============================] - 18s 37ms/step - loss: 0.2840 - accuracy: 0.9160 - val_loss: 0.4128 - val_accuracy: 0.8838\n",
      "Epoch 2/2\n",
      "493/493 [==============================] - 18s 37ms/step - loss: 0.2806 - accuracy: 0.9183 - val_loss: 0.3977 - val_accuracy: 0.8923\n"
     ]
    },
    {
     "data": {
      "text/plain": [
       "<keras.callbacks.History at 0x490403220>"
      ]
     },
     "execution_count": 152,
     "metadata": {},
     "output_type": "execute_result"
    }
   ],
   "source": [
    "mod1.fit(color1tr, ytr, epochs=50, batch_size=128, shuffle=True, validation_data=(color1va, yva))"
   ]
  },
  {
   "cell_type": "code",
   "execution_count": 33,
   "metadata": {},
   "outputs": [
    {
     "name": "stdout",
     "output_type": "stream",
     "text": [
      "1/1 [==============================] - 0s 35ms/step\n",
      "[[0.05319478 0.05366424 0.05880267 0.12469784 0.0047412  0.13013753\n",
      "  0.1112533  0.34895012 0.07895081 0.03560752]\n",
      " [0.04705956 0.06312692 0.30116487 0.11481271 0.13993277 0.03197859\n",
      "  0.12784082 0.01537053 0.11368069 0.04503252]\n",
      " [0.00672858 0.00720899 0.2301947  0.18993726 0.1616593  0.13358356\n",
      "  0.0605554  0.00191609 0.07800082 0.13021536]\n",
      " [0.00862086 0.0017248  0.06568209 0.24393085 0.01442306 0.3650047\n",
      "  0.06938033 0.01972611 0.08534376 0.1261634 ]\n",
      " [0.02056524 0.00454165 0.24846153 0.16814639 0.0298093  0.11893893\n",
      "  0.13045195 0.02028242 0.16955931 0.08924319]]\n"
     ]
    }
   ],
   "source": []
  },
  {
   "cell_type": "code",
   "execution_count": 144,
   "metadata": {},
   "outputs": [
    {
     "name": "stdout",
     "output_type": "stream",
     "text": [
      "Model: \"model_58\"\n",
      "_________________________________________________________________\n",
      " Layer (type)                Output Shape              Param #   \n",
      "=================================================================\n",
      " input_59 (InputLayer)       [(None, 32, 32, 1)]       0         \n",
      "                                                                 \n",
      " conv2d_174 (Conv2D)         (None, 32, 32, 64)        1664      \n",
      "                                                                 \n",
      " max_pooling2d_174 (MaxPooli  (None, 16, 16, 64)       0         \n",
      " ng2D)                                                           \n",
      "                                                                 \n",
      " conv2d_175 (Conv2D)         (None, 16, 16, 32)        18464     \n",
      "                                                                 \n",
      " max_pooling2d_175 (MaxPooli  (None, 8, 8, 32)         0         \n",
      " ng2D)                                                           \n",
      "                                                                 \n",
      " conv2d_176 (Conv2D)         (None, 8, 8, 32)          4128      \n",
      "                                                                 \n",
      " max_pooling2d_176 (MaxPooli  (None, 4, 4, 32)         0         \n",
      " ng2D)                                                           \n",
      "                                                                 \n",
      " flatten_58 (Flatten)        (None, 512)               0         \n",
      "                                                                 \n",
      " dense_69 (Dense)            (None, 10)                5130      \n",
      "                                                                 \n",
      "=================================================================\n",
      "Total params: 29,386\n",
      "Trainable params: 29,386\n",
      "Non-trainable params: 0\n",
      "_________________________________________________________________\n"
     ]
    }
   ],
   "source": [
    "inp=Input(shape=(32,32,1))\n",
    "x=Conv2D(filters=64, kernel_size=(5,5), activation='relu', padding='same' )(inp)\n",
    "x=MaxPooling2D(pool_size=(2,2), padding='same')(x)\n",
    "x=Conv2D(filters = 32, kernel_size=(3,3), activation='relu', padding='same')(x)\n",
    "x=MaxPooling2D(pool_size=(2,2), padding='same')(x)\n",
    "x=Conv2D(filters = 32, kernel_size=(2,2), activation='relu', padding='same')(x)\n",
    "x=MaxPooling2D(pool_size=(2,2), padding='same')(x)\n",
    "x=Flatten()(x)\n",
    "#x=Dense(10, activation='sigmoid')(x)\n",
    "x = Dense(10, activation='softmax')(x)\n",
    "mod2 = Model(inp, x)\n",
    "mod2.compile(optimizer='Adam', loss='SparseCategoricalCrossentropy', metrics='accuracy')\n",
    "mod2.summary()"
   ]
  },
  {
   "cell_type": "code",
   "execution_count": 153,
   "metadata": {},
   "outputs": [
    {
     "name": "stdout",
     "output_type": "stream",
     "text": [
      "493/493 [==============================] - 18s 37ms/step - loss: 0.3103 - accuracy: 0.9074 - val_loss: 0.4526 - val_accuracy: 0.8723\n"
     ]
    },
    {
     "data": {
      "text/plain": [
       "<keras.callbacks.History at 0x49051ef20>"
      ]
     },
     "execution_count": 153,
     "metadata": {},
     "output_type": "execute_result"
    }
   ],
   "source": [
    "mod2.fit(color2tr, ytr, epochs=50, batch_size=128, shuffle=True, validation_data=(color2va, yva))"
   ]
  },
  {
   "cell_type": "code",
   "execution_count": 147,
   "metadata": {},
   "outputs": [],
   "source": [
    "def combine(col0,col1,col2):\n",
    "    ret = []\n",
    "    for c0,c1,c2 in zip(col0,col1,col2):\n",
    "        m = mode([numpy.argmax(c0),numpy.argmax(c1),numpy.argmax(c2)],nan_policy='omit')\n",
    "        ret.append(m.mode)\n",
    "    return ret"
   ]
  },
  {
   "cell_type": "code",
   "execution_count": 148,
   "metadata": {},
   "outputs": [
    {
     "name": "stdout",
     "output_type": "stream",
     "text": [
      "321/321 [==============================] - 2s 7ms/step\n",
      "321/321 [==============================] - 2s 7ms/step\n",
      "321/321 [==============================] - 2s 6ms/step\n"
     ]
    },
    {
     "name": "stderr",
     "output_type": "stream",
     "text": [
      "/var/folders/17/cl3qd1ms5475fb4b0byw770m0000gn/T/ipykernel_38050/580272596.py:4: FutureWarning: Unlike other reduction functions (e.g. `skew`, `kurtosis`), the default behavior of `mode` typically preserves the axis it acts along. In SciPy 1.11.0, this behavior will change: the default value of `keepdims` will become False, the `axis` over which the statistic is taken will be eliminated, and the value None will no longer be accepted. Set `keepdims` to True or False to avoid this warning.\n",
      "  m = mode([numpy.argmax(c0),numpy.argmax(c1),numpy.argmax(c2)],nan_policy='omit')\n"
     ]
    }
   ],
   "source": [
    "col0pred = mod0.predict(color0va)\n",
    "col1pred = mod1.predict(color1va)\n",
    "col2pred = mod2.predict(color2va)\n",
    "predictions = combine(col0pred, col1pred, col2pred)"
   ]
  },
  {
   "cell_type": "code",
   "execution_count": 149,
   "metadata": {},
   "outputs": [],
   "source": [
    "def calculateAccuracy(pred, lab):\n",
    "    if len(pred)!=len(lab):\n",
    "        print(f\"Wrong dimentions: {len(pred)}!={len(lab)}\")\n",
    "        return\n",
    "    else:\n",
    "        n = len(pred)\n",
    "        sm = sum([1 if pred[i]==lab[i] else 0 for i in range(n) ])\n",
    "        return sm/n\n"
   ]
  },
  {
   "cell_type": "code",
   "execution_count": 154,
   "metadata": {},
   "outputs": [
    {
     "name": "stdout",
     "output_type": "stream",
     "text": [
      "accuracy: 0.8999707516817783\n"
     ]
    }
   ],
   "source": [
    "#accuracy score\n",
    "print(f\"accuracy: {calculateAccuracy(predictions, yva)}\")"
   ]
  }
 ],
 "metadata": {
  "kernelspec": {
   "display_name": "Python 3.10.8 ('cs178')",
   "language": "python",
   "name": "python3"
  },
  "language_info": {
   "codemirror_mode": {
    "name": "ipython",
    "version": 3
   },
   "file_extension": ".py",
   "mimetype": "text/x-python",
   "name": "python",
   "nbconvert_exporter": "python",
   "pygments_lexer": "ipython3",
   "version": "3.10.8"
  },
  "orig_nbformat": 4,
  "vscode": {
   "interpreter": {
    "hash": "38c762ab130bd88fd467ed819ac0e6ce94c03cd3cf47821307e691fea32fd23e"
   }
  }
 },
 "nbformat": 4,
 "nbformat_minor": 2
}
