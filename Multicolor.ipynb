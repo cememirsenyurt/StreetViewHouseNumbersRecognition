{
 "cells": [
  {
   "cell_type": "code",
   "execution_count": 438,
   "metadata": {},
   "outputs": [],
   "source": [
    "import numpy, os\n",
    "from xgboost import XGBClassifier\n",
    "from xgboost import XGBRegressor\n",
    "from sklearn.metrics import confusion_matrix, accuracy_score\n",
    "from scipy.stats import mode\n",
    "from keras.models import Model, Sequential\n",
    "import matplotlib.pyplot as plt\n",
    "from keras.utils import load_img\n",
    "from keras.layers import Input, Dense, Conv2D, UpSampling2D, Conv2DTranspose, Flatten, MaxPooling2D, BatchNormalization, Dropout\n",
    "from helpers import loadData"
   ]
  },
  {
   "cell_type": "code",
   "execution_count": 2,
   "metadata": {},
   "outputs": [
    {
     "name": "stdout",
     "output_type": "stream",
     "text": [
      "(32, 32, 3)\n"
     ]
    }
   ],
   "source": [
    "X,y = loadData('train')\n",
    "print(X[0].shape)"
   ]
  },
  {
   "cell_type": "code",
   "execution_count": 311,
   "metadata": {},
   "outputs": [
    {
     "name": "stdout",
     "output_type": "stream",
     "text": [
      "(32, 32, 1)\n",
      "(63000, 1)\n",
      "[0]\n"
     ]
    },
    {
     "data": {
      "image/png": "[encoded data removed]",
      "text/plain": [
       "<Figure size 640x480 with 1 Axes>"
      ]
     },
     "metadata": {},
     "output_type": "display_data"
    }
   ],
   "source": [
    "n = len(X)\n",
    "color0 = []\n",
    "color1 = []\n",
    "color2 = []\n",
    "col = []\n",
    "for c, img in enumerate(X):\n",
    "    col.append(img)\n",
    "    im = numpy.array(img[:,:,0])\n",
    "    color0.append(im.reshape(32,32,1))\n",
    "    #color0.append(img[:,:,0])\n",
    "    im = numpy.array(img[:,:,1])\n",
    "    #color1.append(im.reshape(32,32,1))\n",
    "    color1.append(img[:,:,1])\n",
    "    im = numpy.array(img[:,:,2])\n",
    "    #color2.append(im.reshape(32,32,1))\n",
    "    color2.append(img[:,:,2])\n",
    "#y = y.reshape(n, -1)\n",
    "ytr = y[:63000]\n",
    "yva = y[63000:]\n",
    "color0tr = numpy.array(color0[:63000])\n",
    "color0va = numpy.array(color0[63000:])\n",
    "color1tr = numpy.array(color1[:63000])\n",
    "color1va = numpy.array(color1[63000:])\n",
    "color2tr = numpy.array(color2[:63000])\n",
    "color2va = numpy.array(color2[63000:])\n",
    "coltr = numpy.array(col[:63000])\n",
    "colva = numpy.array(col[63000:])\n",
    "print(color0[0].shape)\n",
    "print(ytr.shape)\n",
    "plt.imshow(color2va[2])\n",
    "print(yva[2])"
   ]
  },
  {
   "cell_type": "code",
   "execution_count": 446,
   "metadata": {},
   "outputs": [
    {
     "name": "stdout",
     "output_type": "stream",
     "text": [
      "Model: \"model_166\"\n",
      "_________________________________________________________________\n",
      " Layer (type)                Output Shape              Param #   \n",
      "=================================================================\n",
      " input_168 (InputLayer)      [(None, 32, 32, 1)]       0         \n",
      "                                                                 \n",
      " conv2d_558 (Conv2D)         (None, 32, 32, 16)        272       \n",
      "                                                                 \n",
      " batch_normalization_42 (Bat  (None, 32, 32, 16)       64        \n",
      " chNormalization)                                                \n",
      "                                                                 \n",
      " dropout_2 (Dropout)         (None, 32, 32, 16)        0         \n",
      "                                                                 \n",
      " max_pooling2d_511 (MaxPooli  (None, 16, 16, 16)       0         \n",
      " ng2D)                                                           \n",
      "                                                                 \n",
      " conv2d_559 (Conv2D)         (None, 16, 16, 32)        4640      \n",
      "                                                                 \n",
      " batch_normalization_43 (Bat  (None, 16, 16, 32)       128       \n",
      " chNormalization)                                                \n",
      "                                                                 \n",
      " max_pooling2d_512 (MaxPooli  (None, 8, 8, 32)         0         \n",
      " ng2D)                                                           \n",
      "                                                                 \n",
      " conv2d_560 (Conv2D)         (None, 8, 8, 48)          13872     \n",
      "                                                                 \n",
      " batch_normalization_44 (Bat  (None, 8, 8, 48)         192       \n",
      " chNormalization)                                                \n",
      "                                                                 \n",
      " max_pooling2d_513 (MaxPooli  (None, 4, 4, 48)         0         \n",
      " ng2D)                                                           \n",
      "                                                                 \n",
      " conv2d_561 (Conv2D)         (None, 4, 4, 64)          12352     \n",
      "                                                                 \n",
      " batch_normalization_45 (Bat  (None, 4, 4, 64)         256       \n",
      " chNormalization)                                                \n",
      "                                                                 \n",
      " max_pooling2d_514 (MaxPooli  (None, 2, 2, 64)         0         \n",
      " ng2D)                                                           \n",
      "                                                                 \n",
      " flatten_147 (Flatten)       (None, 256)               0         \n",
      "                                                                 \n",
      " dense_168 (Dense)           (None, 10)                2570      \n",
      "                                                                 \n",
      "=================================================================\n",
      "Total params: 34,346\n",
      "Trainable params: 34,026\n",
      "Non-trainable params: 320\n",
      "_________________________________________________________________\n"
     ]
    }
   ],
   "source": [
    "inp=Input(shape=(32,32,1))\n",
    "x=Conv2D(filters=16, kernel_size=(4,4), activation='relu', padding='same')(inp)\n",
    "x=BatchNormalization(epsilon=0.01)(x)\n",
    "x=Dropout(0.35)(x)\n",
    "x=MaxPooling2D(pool_size=(2,2), padding='same')(x)\n",
    "x=Conv2D(filters=32, kernel_size=(3,3), activation='relu', padding='same' )(x)\n",
    "x=BatchNormalization()(x)\n",
    "x=MaxPooling2D(pool_size=(2,2), padding='same')(x)\n",
    "x=Conv2D(filters = 48, kernel_size=(3,3), activation='relu', padding='same')(x)\n",
    "x=BatchNormalization()(x)\n",
    "x=MaxPooling2D(pool_size=(2,2), padding='same')(x)\n",
    "x=Conv2D(filters = 64, kernel_size=(2,2), activation='relu', padding='same')(x)\n",
    "x=BatchNormalization()(x)\n",
    "x=MaxPooling2D(pool_size=(2,2), padding='same')(x)\n",
    "x=Flatten()(x)\n",
    "#x=Dense(10, activation='sigmoid')(x)\n",
    "x = Dense(10, activation='softmax', kernel_regularizer='L2')(x)\n",
    "mod0 = Model(inp, x)\n",
    "mod0.compile(optimizer='Adam', loss='SparseCategoricalCrossentropy', metrics='accuracy')\n",
    "mod0.summary()"
   ]
  },
  {
   "cell_type": "code",
   "execution_count": 450,
   "metadata": {},
   "outputs": [
    {
     "name": "stdout",
     "output_type": "stream",
     "text": [
      "Epoch 1/5\n",
      "62/62 [==============================] - 10s 159ms/step - loss: 0.1765 - accuracy: 0.9591 - val_loss: 0.3558 - val_accuracy: 0.9022\n",
      "Epoch 2/5\n",
      "62/62 [==============================] - 10s 160ms/step - loss: 0.1732 - accuracy: 0.9602 - val_loss: 0.3530 - val_accuracy: 0.9058\n",
      "Epoch 3/5\n",
      "62/62 [==============================] - 10s 162ms/step - loss: 0.1706 - accuracy: 0.9611 - val_loss: 0.3600 - val_accuracy: 0.9026\n",
      "Epoch 4/5\n",
      "62/62 [==============================] - 10s 162ms/step - loss: 0.1685 - accuracy: 0.9611 - val_loss: 0.3609 - val_accuracy: 0.9011\n",
      "Epoch 5/5\n",
      "62/62 [==============================] - 10s 162ms/step - loss: 0.1675 - accuracy: 0.9612 - val_loss: 0.3576 - val_accuracy: 0.9044\n"
     ]
    },
    {
     "data": {
      "text/plain": [
       "<keras.callbacks.History at 0x610df0e20>"
      ]
     },
     "execution_count": 450,
     "metadata": {},
     "output_type": "execute_result"
    }
   ],
   "source": [
    "mod0.fit(color0tr, ytr, epochs=5, batch_size=512, shuffle=True, validation_data=(color0va, yva))"
   ]
  },
  {
   "cell_type": "code",
   "execution_count": 442,
   "metadata": {},
   "outputs": [
    {
     "name": "stdout",
     "output_type": "stream",
     "text": [
      "Model: \"model_165\"\n",
      "_________________________________________________________________\n",
      " Layer (type)                Output Shape              Param #   \n",
      "=================================================================\n",
      " input_167 (InputLayer)      [(None, 32, 32, 1)]       0         \n",
      "                                                                 \n",
      " conv2d_554 (Conv2D)         (None, 32, 32, 16)        272       \n",
      "                                                                 \n",
      " batch_normalization_38 (Bat  (None, 32, 32, 16)       64        \n",
      " chNormalization)                                                \n",
      "                                                                 \n",
      " dropout_1 (Dropout)         (None, 32, 32, 16)        0         \n",
      "                                                                 \n",
      " max_pooling2d_507 (MaxPooli  (None, 16, 16, 16)       0         \n",
      " ng2D)                                                           \n",
      "                                                                 \n",
      " conv2d_555 (Conv2D)         (None, 16, 16, 32)        4640      \n",
      "                                                                 \n",
      " batch_normalization_39 (Bat  (None, 16, 16, 32)       128       \n",
      " chNormalization)                                                \n",
      "                                                                 \n",
      " max_pooling2d_508 (MaxPooli  (None, 8, 8, 32)         0         \n",
      " ng2D)                                                           \n",
      "                                                                 \n",
      " conv2d_556 (Conv2D)         (None, 8, 8, 48)          13872     \n",
      "                                                                 \n",
      " batch_normalization_40 (Bat  (None, 8, 8, 48)         192       \n",
      " chNormalization)                                                \n",
      "                                                                 \n",
      " max_pooling2d_509 (MaxPooli  (None, 4, 4, 48)         0         \n",
      " ng2D)                                                           \n",
      "                                                                 \n",
      " conv2d_557 (Conv2D)         (None, 4, 4, 64)          12352     \n",
      "                                                                 \n",
      " batch_normalization_41 (Bat  (None, 4, 4, 64)         256       \n",
      " chNormalization)                                                \n",
      "                                                                 \n",
      " max_pooling2d_510 (MaxPooli  (None, 2, 2, 64)         0         \n",
      " ng2D)                                                           \n",
      "                                                                 \n",
      " flatten_146 (Flatten)       (None, 256)               0         \n",
      "                                                                 \n",
      " dense_167 (Dense)           (None, 10)                2570      \n",
      "                                                                 \n",
      "=================================================================\n",
      "Total params: 34,346\n",
      "Trainable params: 34,026\n",
      "Non-trainable params: 320\n",
      "_________________________________________________________________\n"
     ]
    }
   ],
   "source": [
    "inp=Input(shape=(32,32,1))\n",
    "x=Conv2D(filters=16, kernel_size=(4,4), activation='relu', padding='same')(inp)\n",
    "x=BatchNormalization(epsilon=0.01)(x)\n",
    "x=Dropout(0.5)(x)\n",
    "x=MaxPooling2D(pool_size=(2,2), padding='same')(x)\n",
    "x=Conv2D(filters=32, kernel_size=(3,3), activation='relu', padding='same' )(x)\n",
    "x=BatchNormalization()(x)\n",
    "x=MaxPooling2D(pool_size=(2,2), padding='same')(x)\n",
    "x=Conv2D(filters = 48, kernel_size=(3,3), activation='relu', padding='same')(x)\n",
    "x=BatchNormalization()(x)\n",
    "x=MaxPooling2D(pool_size=(2,2), padding='same')(x)\n",
    "x=Conv2D(filters = 64, kernel_size=(2,2), activation='relu', padding='same')(x)\n",
    "x=BatchNormalization()(x)\n",
    "x=MaxPooling2D(pool_size=(2,2), padding='same')(x)\n",
    "x=Flatten()(x)\n",
    "#x=Dense(10, activation='sigmoid')(x)\n",
    "x = Dense(10, activation='softmax', kernel_regularizer='L2')(x)\n",
    "mod1 = Model(inp, x)\n",
    "mod1.compile(optimizer='Adam', loss='SparseCategoricalCrossentropy', metrics='accuracy', )\n",
    "mod1.summary()"
   ]
  },
  {
   "cell_type": "code",
   "execution_count": 445,
   "metadata": {},
   "outputs": [
    {
     "name": "stdout",
     "output_type": "stream",
     "text": [
      "Epoch 1/13\n",
      "62/62 [==============================] - 10s 166ms/step - loss: 0.2161 - accuracy: 0.9441 - val_loss: 0.3424 - val_accuracy: 0.9063\n",
      "Epoch 2/13\n",
      "62/62 [==============================] - 10s 167ms/step - loss: 0.2072 - accuracy: 0.9479 - val_loss: 0.3432 - val_accuracy: 0.9105\n",
      "Epoch 3/13\n",
      "62/62 [==============================] - 10s 165ms/step - loss: 0.2037 - accuracy: 0.9493 - val_loss: 0.3435 - val_accuracy: 0.9090\n",
      "Epoch 4/13\n",
      "62/62 [==============================] - 10s 166ms/step - loss: 0.2007 - accuracy: 0.9495 - val_loss: 0.3370 - val_accuracy: 0.9078\n",
      "Epoch 5/13\n",
      "62/62 [==============================] - 10s 168ms/step - loss: 0.1998 - accuracy: 0.9512 - val_loss: 0.3379 - val_accuracy: 0.9088\n",
      "Epoch 6/13\n",
      "62/62 [==============================] - 10s 167ms/step - loss: 0.1974 - accuracy: 0.9507 - val_loss: 0.3476 - val_accuracy: 0.9042\n",
      "Epoch 7/13\n",
      "62/62 [==============================] - 10s 167ms/step - loss: 0.1968 - accuracy: 0.9510 - val_loss: 0.3410 - val_accuracy: 0.9066\n",
      "Epoch 8/13\n",
      "62/62 [==============================] - 10s 165ms/step - loss: 0.1953 - accuracy: 0.9513 - val_loss: 0.3404 - val_accuracy: 0.9060\n",
      "Epoch 9/13\n",
      "62/62 [==============================] - 10s 167ms/step - loss: 0.1902 - accuracy: 0.9530 - val_loss: 0.3441 - val_accuracy: 0.9076\n",
      "Epoch 10/13\n",
      "62/62 [==============================] - 10s 164ms/step - loss: 0.1889 - accuracy: 0.9530 - val_loss: 0.3426 - val_accuracy: 0.9055\n",
      "Epoch 11/13\n",
      "62/62 [==============================] - 10s 164ms/step - loss: 0.1869 - accuracy: 0.9532 - val_loss: 0.3416 - val_accuracy: 0.9083\n",
      "Epoch 12/13\n",
      "62/62 [==============================] - 10s 165ms/step - loss: 0.1836 - accuracy: 0.9548 - val_loss: 0.3341 - val_accuracy: 0.9096\n",
      "Epoch 13/13\n",
      "62/62 [==============================] - 10s 166ms/step - loss: 0.1836 - accuracy: 0.9548 - val_loss: 0.3476 - val_accuracy: 0.9032\n"
     ]
    },
    {
     "data": {
      "text/plain": [
       "<keras.callbacks.History at 0x606d05f00>"
      ]
     },
     "execution_count": 445,
     "metadata": {},
     "output_type": "execute_result"
    }
   ],
   "source": [
    "mod1.fit(color1tr, ytr, epochs=13, batch_size=1024, shuffle=True, validation_data=(color1va, yva))"
   ]
  },
  {
   "cell_type": "code",
   "execution_count": 33,
   "metadata": {},
   "outputs": [
    {
     "name": "stdout",
     "output_type": "stream",
     "text": [
      "1/1 [==============================] - 0s 35ms/step\n",
      "[[0.05319478 0.05366424 0.05880267 0.12469784 0.0047412  0.13013753\n",
      "  0.1112533  0.34895012 0.07895081 0.03560752]\n",
      " [0.04705956 0.06312692 0.30116487 0.11481271 0.13993277 0.03197859\n",
      "  0.12784082 0.01537053 0.11368069 0.04503252]\n",
      " [0.00672858 0.00720899 0.2301947  0.18993726 0.1616593  0.13358356\n",
      "  0.0605554  0.00191609 0.07800082 0.13021536]\n",
      " [0.00862086 0.0017248  0.06568209 0.24393085 0.01442306 0.3650047\n",
      "  0.06938033 0.01972611 0.08534376 0.1261634 ]\n",
      " [0.02056524 0.00454165 0.24846153 0.16814639 0.0298093  0.11893893\n",
      "  0.13045195 0.02028242 0.16955931 0.08924319]]\n"
     ]
    }
   ],
   "source": []
  },
  {
   "cell_type": "code",
   "execution_count": 459,
   "metadata": {},
   "outputs": [
    {
     "name": "stdout",
     "output_type": "stream",
     "text": [
      "Model: \"model_169\"\n",
      "_________________________________________________________________\n",
      " Layer (type)                Output Shape              Param #   \n",
      "=================================================================\n",
      " input_172 (InputLayer)      [(None, 32, 32, 1)]       0         \n",
      "                                                                 \n",
      " conv2d_574 (Conv2D)         (None, 32, 32, 16)        272       \n",
      "                                                                 \n",
      " batch_normalization_58 (Bat  (None, 32, 32, 16)       64        \n",
      " chNormalization)                                                \n",
      "                                                                 \n",
      " dropout_6 (Dropout)         (None, 32, 32, 16)        0         \n",
      "                                                                 \n",
      " max_pooling2d_527 (MaxPooli  (None, 16, 16, 16)       0         \n",
      " ng2D)                                                           \n",
      "                                                                 \n",
      " conv2d_575 (Conv2D)         (None, 16, 16, 32)        4640      \n",
      "                                                                 \n",
      " batch_normalization_59 (Bat  (None, 16, 16, 32)       128       \n",
      " chNormalization)                                                \n",
      "                                                                 \n",
      " max_pooling2d_528 (MaxPooli  (None, 8, 8, 32)         0         \n",
      " ng2D)                                                           \n",
      "                                                                 \n",
      " conv2d_576 (Conv2D)         (None, 8, 8, 48)          13872     \n",
      "                                                                 \n",
      " batch_normalization_60 (Bat  (None, 8, 8, 48)         192       \n",
      " chNormalization)                                                \n",
      "                                                                 \n",
      " max_pooling2d_529 (MaxPooli  (None, 4, 4, 48)         0         \n",
      " ng2D)                                                           \n",
      "                                                                 \n",
      " conv2d_577 (Conv2D)         (None, 4, 4, 64)          12352     \n",
      "                                                                 \n",
      " batch_normalization_61 (Bat  (None, 4, 4, 64)         256       \n",
      " chNormalization)                                                \n",
      "                                                                 \n",
      " max_pooling2d_530 (MaxPooli  (None, 2, 2, 64)         0         \n",
      " ng2D)                                                           \n",
      "                                                                 \n",
      " flatten_151 (Flatten)       (None, 256)               0         \n",
      "                                                                 \n",
      " dense_172 (Dense)           (None, 10)                2570      \n",
      "                                                                 \n",
      "=================================================================\n",
      "Total params: 34,346\n",
      "Trainable params: 34,026\n",
      "Non-trainable params: 320\n",
      "_________________________________________________________________\n"
     ]
    }
   ],
   "source": [
    "inp=Input(shape=(32,32,1))\n",
    "x=Conv2D(filters=16, kernel_size=(4,4), activation='relu', padding='same')(inp)\n",
    "x=BatchNormalization(epsilon=0.01)(x)\n",
    "x=Dropout(0.45)(x)\n",
    "x=MaxPooling2D(pool_size=(2,2), padding='same')(x)\n",
    "x=Conv2D(filters=32, kernel_size=(3,3), activation='relu', padding='same' )(x)\n",
    "x=BatchNormalization()(x)\n",
    "x=MaxPooling2D(pool_size=(2,2), padding='same')(x)\n",
    "x=Conv2D(filters = 48, kernel_size=(3,3), activation='relu', padding='same')(x)\n",
    "x=BatchNormalization()(x)\n",
    "x=MaxPooling2D(pool_size=(2,2), padding='same')(x)\n",
    "x=Conv2D(filters = 64, kernel_size=(2,2), activation='relu', padding='same')(x)\n",
    "x=BatchNormalization()(x)\n",
    "x=MaxPooling2D(pool_size=(2,2), padding='same')(x)\n",
    "x=Flatten()(x)\n",
    "#x=Dense(10, activation='sigmoid')(x)\n",
    "x = Dense(10, activation='softmax', kernel_regularizer='L2')(x)\n",
    "mod2 = Model(inp, x)\n",
    "mod2.compile(optimizer='Adam', loss='SparseCategoricalCrossentropy', metrics='accuracy')\n",
    "mod2.summary()"
   ]
  },
  {
   "cell_type": "code",
   "execution_count": 465,
   "metadata": {},
   "outputs": [
    {
     "name": "stdout",
     "output_type": "stream",
     "text": [
      "Epoch 1/4\n",
      "62/62 [==============================] - 10s 163ms/step - loss: 0.2210 - accuracy: 0.9433 - val_loss: 0.3596 - val_accuracy: 0.9016\n",
      "Epoch 2/4\n",
      "62/62 [==============================] - 10s 163ms/step - loss: 0.2190 - accuracy: 0.9434 - val_loss: 0.3618 - val_accuracy: 0.9007\n",
      "Epoch 3/4\n",
      "12/62 [====>.........................] - ETA: 7s - loss: 0.2061 - accuracy: 0.9495"
     ]
    },
    {
     "ename": "KeyboardInterrupt",
     "evalue": "",
     "output_type": "error",
     "traceback": [
      "\u001b[0;31m---------------------------------------------------------------------------\u001b[0m",
      "\u001b[0;31mKeyboardInterrupt\u001b[0m                         Traceback (most recent call last)",
      "Cell \u001b[0;32mIn[465], line 1\u001b[0m\n\u001b[0;32m----> 1\u001b[0m mod2\u001b[39m.\u001b[39;49mfit(color2tr, ytr, epochs\u001b[39m=\u001b[39;49m\u001b[39m4\u001b[39;49m, batch_size\u001b[39m=\u001b[39;49m\u001b[39m1024\u001b[39;49m, shuffle\u001b[39m=\u001b[39;49m\u001b[39mTrue\u001b[39;49;00m, validation_data\u001b[39m=\u001b[39;49m(color2va, yva))\n",
      "File \u001b[0;32m~/.conda/envs/cs178/lib/python3.10/site-packages/keras/utils/traceback_utils.py:65\u001b[0m, in \u001b[0;36mfilter_traceback.<locals>.error_handler\u001b[0;34m(*args, **kwargs)\u001b[0m\n\u001b[1;32m     63\u001b[0m filtered_tb \u001b[39m=\u001b[39m \u001b[39mNone\u001b[39;00m\n\u001b[1;32m     64\u001b[0m \u001b[39mtry\u001b[39;00m:\n\u001b[0;32m---> 65\u001b[0m     \u001b[39mreturn\u001b[39;00m fn(\u001b[39m*\u001b[39;49margs, \u001b[39m*\u001b[39;49m\u001b[39m*\u001b[39;49mkwargs)\n\u001b[1;32m     66\u001b[0m \u001b[39mexcept\u001b[39;00m \u001b[39mException\u001b[39;00m \u001b[39mas\u001b[39;00m e:\n\u001b[1;32m     67\u001b[0m     filtered_tb \u001b[39m=\u001b[39m _process_traceback_frames(e\u001b[39m.\u001b[39m__traceback__)\n",
      "File \u001b[0;32m~/.conda/envs/cs178/lib/python3.10/site-packages/keras/engine/training.py:1650\u001b[0m, in \u001b[0;36mModel.fit\u001b[0;34m(self, x, y, batch_size, epochs, verbose, callbacks, validation_split, validation_data, shuffle, class_weight, sample_weight, initial_epoch, steps_per_epoch, validation_steps, validation_batch_size, validation_freq, max_queue_size, workers, use_multiprocessing)\u001b[0m\n\u001b[1;32m   1642\u001b[0m \u001b[39mwith\u001b[39;00m tf\u001b[39m.\u001b[39mprofiler\u001b[39m.\u001b[39mexperimental\u001b[39m.\u001b[39mTrace(\n\u001b[1;32m   1643\u001b[0m     \u001b[39m\"\u001b[39m\u001b[39mtrain\u001b[39m\u001b[39m\"\u001b[39m,\n\u001b[1;32m   1644\u001b[0m     epoch_num\u001b[39m=\u001b[39mepoch,\n\u001b[0;32m   (...)\u001b[0m\n\u001b[1;32m   1647\u001b[0m     _r\u001b[39m=\u001b[39m\u001b[39m1\u001b[39m,\n\u001b[1;32m   1648\u001b[0m ):\n\u001b[1;32m   1649\u001b[0m     callbacks\u001b[39m.\u001b[39mon_train_batch_begin(step)\n\u001b[0;32m-> 1650\u001b[0m     tmp_logs \u001b[39m=\u001b[39m \u001b[39mself\u001b[39;49m\u001b[39m.\u001b[39;49mtrain_function(iterator)\n\u001b[1;32m   1651\u001b[0m     \u001b[39mif\u001b[39;00m data_handler\u001b[39m.\u001b[39mshould_sync:\n\u001b[1;32m   1652\u001b[0m         context\u001b[39m.\u001b[39masync_wait()\n",
      "File \u001b[0;32m~/.conda/envs/cs178/lib/python3.10/site-packages/tensorflow/python/util/traceback_utils.py:150\u001b[0m, in \u001b[0;36mfilter_traceback.<locals>.error_handler\u001b[0;34m(*args, **kwargs)\u001b[0m\n\u001b[1;32m    148\u001b[0m filtered_tb \u001b[39m=\u001b[39m \u001b[39mNone\u001b[39;00m\n\u001b[1;32m    149\u001b[0m \u001b[39mtry\u001b[39;00m:\n\u001b[0;32m--> 150\u001b[0m   \u001b[39mreturn\u001b[39;00m fn(\u001b[39m*\u001b[39;49margs, \u001b[39m*\u001b[39;49m\u001b[39m*\u001b[39;49mkwargs)\n\u001b[1;32m    151\u001b[0m \u001b[39mexcept\u001b[39;00m \u001b[39mException\u001b[39;00m \u001b[39mas\u001b[39;00m e:\n\u001b[1;32m    152\u001b[0m   filtered_tb \u001b[39m=\u001b[39m _process_traceback_frames(e\u001b[39m.\u001b[39m__traceback__)\n",
      "File \u001b[0;32m~/.conda/envs/cs178/lib/python3.10/site-packages/tensorflow/python/eager/polymorphic_function/polymorphic_function.py:880\u001b[0m, in \u001b[0;36mFunction.__call__\u001b[0;34m(self, *args, **kwds)\u001b[0m\n\u001b[1;32m    877\u001b[0m compiler \u001b[39m=\u001b[39m \u001b[39m\"\u001b[39m\u001b[39mxla\u001b[39m\u001b[39m\"\u001b[39m \u001b[39mif\u001b[39;00m \u001b[39mself\u001b[39m\u001b[39m.\u001b[39m_jit_compile \u001b[39melse\u001b[39;00m \u001b[39m\"\u001b[39m\u001b[39mnonXla\u001b[39m\u001b[39m\"\u001b[39m\n\u001b[1;32m    879\u001b[0m \u001b[39mwith\u001b[39;00m OptionalXlaContext(\u001b[39mself\u001b[39m\u001b[39m.\u001b[39m_jit_compile):\n\u001b[0;32m--> 880\u001b[0m   result \u001b[39m=\u001b[39m \u001b[39mself\u001b[39;49m\u001b[39m.\u001b[39;49m_call(\u001b[39m*\u001b[39;49margs, \u001b[39m*\u001b[39;49m\u001b[39m*\u001b[39;49mkwds)\n\u001b[1;32m    882\u001b[0m new_tracing_count \u001b[39m=\u001b[39m \u001b[39mself\u001b[39m\u001b[39m.\u001b[39mexperimental_get_tracing_count()\n\u001b[1;32m    883\u001b[0m without_tracing \u001b[39m=\u001b[39m (tracing_count \u001b[39m==\u001b[39m new_tracing_count)\n",
      "File \u001b[0;32m~/.conda/envs/cs178/lib/python3.10/site-packages/tensorflow/python/eager/polymorphic_function/polymorphic_function.py:912\u001b[0m, in \u001b[0;36mFunction._call\u001b[0;34m(self, *args, **kwds)\u001b[0m\n\u001b[1;32m    909\u001b[0m   \u001b[39mself\u001b[39m\u001b[39m.\u001b[39m_lock\u001b[39m.\u001b[39mrelease()\n\u001b[1;32m    910\u001b[0m   \u001b[39m# In this case we have created variables on the first call, so we run the\u001b[39;00m\n\u001b[1;32m    911\u001b[0m   \u001b[39m# defunned version which is guaranteed to never create variables.\u001b[39;00m\n\u001b[0;32m--> 912\u001b[0m   \u001b[39mreturn\u001b[39;00m \u001b[39mself\u001b[39;49m\u001b[39m.\u001b[39;49m_no_variable_creation_fn(\u001b[39m*\u001b[39;49margs, \u001b[39m*\u001b[39;49m\u001b[39m*\u001b[39;49mkwds)  \u001b[39m# pylint: disable=not-callable\u001b[39;00m\n\u001b[1;32m    913\u001b[0m \u001b[39melif\u001b[39;00m \u001b[39mself\u001b[39m\u001b[39m.\u001b[39m_variable_creation_fn \u001b[39mis\u001b[39;00m \u001b[39mnot\u001b[39;00m \u001b[39mNone\u001b[39;00m:\n\u001b[1;32m    914\u001b[0m   \u001b[39m# Release the lock early so that multiple threads can perform the call\u001b[39;00m\n\u001b[1;32m    915\u001b[0m   \u001b[39m# in parallel.\u001b[39;00m\n\u001b[1;32m    916\u001b[0m   \u001b[39mself\u001b[39m\u001b[39m.\u001b[39m_lock\u001b[39m.\u001b[39mrelease()\n",
      "File \u001b[0;32m~/.conda/envs/cs178/lib/python3.10/site-packages/tensorflow/python/eager/polymorphic_function/tracing_compiler.py:134\u001b[0m, in \u001b[0;36mTracingCompiler.__call__\u001b[0;34m(self, *args, **kwargs)\u001b[0m\n\u001b[1;32m    131\u001b[0m \u001b[39mwith\u001b[39;00m \u001b[39mself\u001b[39m\u001b[39m.\u001b[39m_lock:\n\u001b[1;32m    132\u001b[0m   (concrete_function,\n\u001b[1;32m    133\u001b[0m    filtered_flat_args) \u001b[39m=\u001b[39m \u001b[39mself\u001b[39m\u001b[39m.\u001b[39m_maybe_define_function(args, kwargs)\n\u001b[0;32m--> 134\u001b[0m \u001b[39mreturn\u001b[39;00m concrete_function\u001b[39m.\u001b[39;49m_call_flat(\n\u001b[1;32m    135\u001b[0m     filtered_flat_args, captured_inputs\u001b[39m=\u001b[39;49mconcrete_function\u001b[39m.\u001b[39;49mcaptured_inputs)\n",
      "File \u001b[0;32m~/.conda/envs/cs178/lib/python3.10/site-packages/tensorflow/python/eager/polymorphic_function/monomorphic_function.py:1745\u001b[0m, in \u001b[0;36mConcreteFunction._call_flat\u001b[0;34m(self, args, captured_inputs, cancellation_manager)\u001b[0m\n\u001b[1;32m   1741\u001b[0m possible_gradient_type \u001b[39m=\u001b[39m gradients_util\u001b[39m.\u001b[39mPossibleTapeGradientTypes(args)\n\u001b[1;32m   1742\u001b[0m \u001b[39mif\u001b[39;00m (possible_gradient_type \u001b[39m==\u001b[39m gradients_util\u001b[39m.\u001b[39mPOSSIBLE_GRADIENT_TYPES_NONE\n\u001b[1;32m   1743\u001b[0m     \u001b[39mand\u001b[39;00m executing_eagerly):\n\u001b[1;32m   1744\u001b[0m   \u001b[39m# No tape is watching; skip to running the function.\u001b[39;00m\n\u001b[0;32m-> 1745\u001b[0m   \u001b[39mreturn\u001b[39;00m \u001b[39mself\u001b[39m\u001b[39m.\u001b[39m_build_call_outputs(\u001b[39mself\u001b[39;49m\u001b[39m.\u001b[39;49m_inference_function\u001b[39m.\u001b[39;49mcall(\n\u001b[1;32m   1746\u001b[0m       ctx, args, cancellation_manager\u001b[39m=\u001b[39;49mcancellation_manager))\n\u001b[1;32m   1747\u001b[0m forward_backward \u001b[39m=\u001b[39m \u001b[39mself\u001b[39m\u001b[39m.\u001b[39m_select_forward_and_backward_functions(\n\u001b[1;32m   1748\u001b[0m     args,\n\u001b[1;32m   1749\u001b[0m     possible_gradient_type,\n\u001b[1;32m   1750\u001b[0m     executing_eagerly)\n\u001b[1;32m   1751\u001b[0m forward_function, args_with_tangents \u001b[39m=\u001b[39m forward_backward\u001b[39m.\u001b[39mforward()\n",
      "File \u001b[0;32m~/.conda/envs/cs178/lib/python3.10/site-packages/tensorflow/python/eager/polymorphic_function/monomorphic_function.py:378\u001b[0m, in \u001b[0;36m_EagerDefinedFunction.call\u001b[0;34m(self, ctx, args, cancellation_manager)\u001b[0m\n\u001b[1;32m    376\u001b[0m \u001b[39mwith\u001b[39;00m _InterpolateFunctionError(\u001b[39mself\u001b[39m):\n\u001b[1;32m    377\u001b[0m   \u001b[39mif\u001b[39;00m cancellation_manager \u001b[39mis\u001b[39;00m \u001b[39mNone\u001b[39;00m:\n\u001b[0;32m--> 378\u001b[0m     outputs \u001b[39m=\u001b[39m execute\u001b[39m.\u001b[39;49mexecute(\n\u001b[1;32m    379\u001b[0m         \u001b[39mstr\u001b[39;49m(\u001b[39mself\u001b[39;49m\u001b[39m.\u001b[39;49msignature\u001b[39m.\u001b[39;49mname),\n\u001b[1;32m    380\u001b[0m         num_outputs\u001b[39m=\u001b[39;49m\u001b[39mself\u001b[39;49m\u001b[39m.\u001b[39;49m_num_outputs,\n\u001b[1;32m    381\u001b[0m         inputs\u001b[39m=\u001b[39;49margs,\n\u001b[1;32m    382\u001b[0m         attrs\u001b[39m=\u001b[39;49mattrs,\n\u001b[1;32m    383\u001b[0m         ctx\u001b[39m=\u001b[39;49mctx)\n\u001b[1;32m    384\u001b[0m   \u001b[39melse\u001b[39;00m:\n\u001b[1;32m    385\u001b[0m     outputs \u001b[39m=\u001b[39m execute\u001b[39m.\u001b[39mexecute_with_cancellation(\n\u001b[1;32m    386\u001b[0m         \u001b[39mstr\u001b[39m(\u001b[39mself\u001b[39m\u001b[39m.\u001b[39msignature\u001b[39m.\u001b[39mname),\n\u001b[1;32m    387\u001b[0m         num_outputs\u001b[39m=\u001b[39m\u001b[39mself\u001b[39m\u001b[39m.\u001b[39m_num_outputs,\n\u001b[0;32m   (...)\u001b[0m\n\u001b[1;32m    390\u001b[0m         ctx\u001b[39m=\u001b[39mctx,\n\u001b[1;32m    391\u001b[0m         cancellation_manager\u001b[39m=\u001b[39mcancellation_manager)\n",
      "File \u001b[0;32m~/.conda/envs/cs178/lib/python3.10/site-packages/tensorflow/python/eager/execute.py:52\u001b[0m, in \u001b[0;36mquick_execute\u001b[0;34m(op_name, num_outputs, inputs, attrs, ctx, name)\u001b[0m\n\u001b[1;32m     50\u001b[0m \u001b[39mtry\u001b[39;00m:\n\u001b[1;32m     51\u001b[0m   ctx\u001b[39m.\u001b[39mensure_initialized()\n\u001b[0;32m---> 52\u001b[0m   tensors \u001b[39m=\u001b[39m pywrap_tfe\u001b[39m.\u001b[39;49mTFE_Py_Execute(ctx\u001b[39m.\u001b[39;49m_handle, device_name, op_name,\n\u001b[1;32m     53\u001b[0m                                       inputs, attrs, num_outputs)\n\u001b[1;32m     54\u001b[0m \u001b[39mexcept\u001b[39;00m core\u001b[39m.\u001b[39m_NotOkStatusException \u001b[39mas\u001b[39;00m e:\n\u001b[1;32m     55\u001b[0m   \u001b[39mif\u001b[39;00m name \u001b[39mis\u001b[39;00m \u001b[39mnot\u001b[39;00m \u001b[39mNone\u001b[39;00m:\n",
      "\u001b[0;31mKeyboardInterrupt\u001b[0m: "
     ]
    }
   ],
   "source": [
    "mod2.fit(color2tr, ytr, epochs=4, batch_size=1024, shuffle=True, validation_data=(color2va, yva))"
   ]
  },
  {
   "cell_type": "code",
   "execution_count": 192,
   "metadata": {},
   "outputs": [],
   "source": [
    "def combine(col0,col1,col2):\n",
    "    ret = []\n",
    "    for c0,c1,c2 in zip(col0,col1,col2):\n",
    "        t = []\n",
    "        t.append((max(c0), numpy.argmax(c0)))\n",
    "        t.append((max(c1), numpy.argmax(c1)))\n",
    "        t.append((max(c2), numpy.argmax(c2)))\n",
    "        t.sort(key=lambda x:-x[0])\n",
    "        ret.append(t[0][1])\n",
    "    return ret"
   ]
  },
  {
   "cell_type": "markdown",
   "metadata": {},
   "source": []
  },
  {
   "cell_type": "code",
   "execution_count": 466,
   "metadata": {},
   "outputs": [
    {
     "name": "stdout",
     "output_type": "stream",
     "text": [
      "321/321 [==============================] - 1s 3ms/step\n",
      "321/321 [==============================] - 1s 3ms/step\n",
      "321/321 [==============================] - 1s 3ms/step\n"
     ]
    }
   ],
   "source": [
    "col0pred = mod0.predict(color0va)\n",
    "col1pred = mod1.predict(color1va)\n",
    "col2pred = mod2.predict(color2va)\n",
    "predictions = combine(col0pred, col1pred, col2pred)"
   ]
  },
  {
   "cell_type": "code",
   "execution_count": 304,
   "metadata": {},
   "outputs": [],
   "source": [
    "def calculateAccuracy(pred, lab):\n",
    "    if len(pred)!=len(lab):\n",
    "        print(f\"Wrong dimentions: {len(pred)}!={len(lab)}\")\n",
    "        return\n",
    "    else:\n",
    "        n = len(pred)\n",
    "        sm = sum([1 if pred[i]==lab[i] else 0 for i in range(n) ])\n",
    "        return sm/n\n"
   ]
  },
  {
   "cell_type": "markdown",
   "metadata": {},
   "source": [
    "results:"
   ]
  },
  {
   "cell_type": "code",
   "execution_count": 467,
   "metadata": {},
   "outputs": [
    {
     "name": "stdout",
     "output_type": "stream",
     "text": [
      "accuracy: 0.9265867212635274\n"
     ]
    }
   ],
   "source": [
    "#accuracy score\n",
    "#calculated by choosing max probability\n",
    "print(f\"accuracy: {calculateAccuracy(predictions, yva)}\")"
   ]
  }
 ],
 "metadata": {
  "kernelspec": {
   "display_name": "Python 3.10.8 ('cs178')",
   "language": "python",
   "name": "python3"
  },
  "language_info": {
   "codemirror_mode": {
    "name": "ipython",
    "version": 3
   },
   "file_extension": ".py",
   "mimetype": "text/x-python",
   "name": "python",
   "nbconvert_exporter": "python",
   "pygments_lexer": "ipython3",
   "version": "3.10.8"
  },
  "orig_nbformat": 4,
  "vscode": {
   "interpreter": {
    "hash": "38c762ab130bd88fd467ed819ac0e6ce94c03cd3cf47821307e691fea32fd23e"
   }
  }
 },
 "nbformat": 4,
 "nbformat_minor": 2
}
