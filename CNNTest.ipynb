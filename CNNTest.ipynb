{
 "cells": [
  {
   "cell_type": "code",
   "execution_count": 1,
   "id": "97fc1ab1",
   "metadata": {},
   "outputs": [],
   "source": [
    "%load_ext autoreload"
   ]
  },
  {
   "cell_type": "code",
   "execution_count": 2,
   "id": "932a4c15",
   "metadata": {},
   "outputs": [],
   "source": [
    "%autoreload 2\n",
    "\n",
    "import numpy as np\n",
    "import matplotlib.pyplot as plt\n",
    "\n",
    "import tensorflow as tf\n",
    "from tensorflow.keras import datasets, layers, models\n",
    "\n",
    "from helpers import loadData, loadDataFromPath"
   ]
  },
  {
   "cell_type": "code",
   "execution_count": 3,
   "id": "1a9624a8",
   "metadata": {},
   "outputs": [],
   "source": [
    "# Load data\n",
    "X_tr, y_tr = loadData(\"train\")\n",
    "X_te, y_te = loadData(\"test\")\n"
   ]
  },
  {
   "cell_type": "code",
   "execution_count": 4,
   "id": "cd333ef4",
   "metadata": {},
   "outputs": [],
   "source": [
    "# Build model\n",
    "model = models.Sequential()\n",
    "model.add(layers.Conv2D(32, (3, 3), activation='relu', input_shape=(32, 32, 3)))\n",
    "model.add(layers.MaxPooling2D((2, 2)))\n",
    "model.add(layers.Conv2D(64, (3, 3), activation='relu'))\n",
    "model.add(layers.MaxPooling2D((2, 2)))\n",
    "model.add(layers.Conv2D(64, (3, 3), activation='relu'))\n",
    "model.add(layers.Flatten())\n",
    "model.add(layers.Dense(64, activation='relu'))\n",
    "model.add(layers.Dense(10))"
   ]
  },
  {
   "cell_type": "code",
   "execution_count": 5,
   "id": "909b1b72",
   "metadata": {},
   "outputs": [
    {
     "name": "stdout",
     "output_type": "stream",
     "text": [
      "Model: \"sequential\"\n",
      "_________________________________________________________________\n",
      " Layer (type)                Output Shape              Param #   \n",
      "=================================================================\n",
      " conv2d (Conv2D)             (None, 30, 30, 32)        896       \n",
      "                                                                 \n",
      " max_pooling2d (MaxPooling2D  (None, 15, 15, 32)       0         \n",
      " )                                                               \n",
      "                                                                 \n",
      " conv2d_1 (Conv2D)           (None, 13, 13, 64)        18496     \n",
      "                                                                 \n",
      " max_pooling2d_1 (MaxPooling  (None, 6, 6, 64)         0         \n",
      " 2D)                                                             \n",
      "                                                                 \n",
      " conv2d_2 (Conv2D)           (None, 4, 4, 64)          36928     \n",
      "                                                                 \n",
      " flatten (Flatten)           (None, 1024)              0         \n",
      "                                                                 \n",
      " dense (Dense)               (None, 64)                65600     \n",
      "                                                                 \n",
      " dense_1 (Dense)             (None, 10)                650       \n",
      "                                                                 \n",
      "=================================================================\n",
      "Total params: 122,570\n",
      "Trainable params: 122,570\n",
      "Non-trainable params: 0\n",
      "_________________________________________________________________\n"
     ]
    }
   ],
   "source": [
    "model.summary()"
   ]
  },
  {
   "cell_type": "code",
   "execution_count": 6,
   "id": "88c17a91",
   "metadata": {},
   "outputs": [
    {
     "name": "stdout",
     "output_type": "stream",
     "text": [
      "Epoch 1/10\n",
      "2290/2290 [==============================] - 32s 14ms/step - loss: 0.9581 - accuracy: 0.6890 - val_loss: 0.5606 - val_accuracy: 0.8421\n",
      "Epoch 2/10\n",
      "2290/2290 [==============================] - 31s 13ms/step - loss: 0.4519 - accuracy: 0.8685 - val_loss: 0.4897 - val_accuracy: 0.8603\n",
      "Epoch 3/10\n",
      "2290/2290 [==============================] - 31s 14ms/step - loss: 0.3851 - accuracy: 0.8881 - val_loss: 0.4181 - val_accuracy: 0.8804\n",
      "Epoch 4/10\n",
      "2290/2290 [==============================] - 31s 14ms/step - loss: 0.3364 - accuracy: 0.9010 - val_loss: 0.3882 - val_accuracy: 0.8908\n",
      "Epoch 5/10\n",
      "2290/2290 [==============================] - 31s 13ms/step - loss: 0.3069 - accuracy: 0.9090 - val_loss: 0.4018 - val_accuracy: 0.8854\n",
      "Epoch 6/10\n",
      "2290/2290 [==============================] - 32s 14ms/step - loss: 0.2822 - accuracy: 0.9172 - val_loss: 0.3787 - val_accuracy: 0.8942\n",
      "Epoch 7/10\n",
      "2290/2290 [==============================] - 32s 14ms/step - loss: 0.2588 - accuracy: 0.9243 - val_loss: 0.3648 - val_accuracy: 0.8966\n",
      "Epoch 8/10\n",
      "2290/2290 [==============================] - 31s 13ms/step - loss: 0.2420 - accuracy: 0.9298 - val_loss: 0.3662 - val_accuracy: 0.8994\n",
      "Epoch 9/10\n",
      "2290/2290 [==============================] - 31s 13ms/step - loss: 0.2266 - accuracy: 0.9320 - val_loss: 0.3629 - val_accuracy: 0.9008\n",
      "Epoch 10/10\n",
      "2290/2290 [==============================] - 31s 13ms/step - loss: 0.2135 - accuracy: 0.9360 - val_loss: 0.3893 - val_accuracy: 0.8947\n"
     ]
    }
   ],
   "source": [
    "# Train model\n",
    "model.compile(optimizer='adam',\n",
    "              loss=tf.keras.losses.SparseCategoricalCrossentropy(from_logits=True),\n",
    "              metrics=['accuracy'])\n",
    "\n",
    "history = model.fit(X_tr, y_tr, epochs=10, \n",
    "                    validation_data=(X_te, y_te))"
   ]
  },
  {
   "cell_type": "code",
   "execution_count": 7,
   "id": "1eeeb132",
   "metadata": {},
   "outputs": [
    {
     "name": "stdout",
     "output_type": "stream",
     "text": [
      "814/814 - 3s - loss: 0.3893 - accuracy: 0.8947 - 3s/epoch - 4ms/step\n",
      "Test accuracy: 0.8946681022644043\n"
     ]
    },
    {
     "data": {
      "image/png": "[encoded data removed]",
      "text/plain": [
       "<Figure size 432x288 with 1 Axes>"
      ]
     },
     "metadata": {
      "needs_background": "light"
     },
     "output_type": "display_data"
    }
   ],
   "source": [
    "# Evaluate model\n",
    "plt.plot(history.history['accuracy'], label='accuracy')\n",
    "plt.plot(history.history['val_accuracy'], label = 'val_accuracy')\n",
    "plt.xlabel('Epoch')\n",
    "plt.ylabel('Accuracy')\n",
    "plt.ylim([0.5, 1])\n",
    "plt.legend(loc='lower right')\n",
    "\n",
    "test_loss, test_acc = model.evaluate(X_te,  y_te, verbose=2)\n",
    "print(\"Test accuracy: {}\".format(test_acc))"
   ]
  },
  {
   "cell_type": "code",
   "execution_count": null,
   "id": "cb18cb74",
   "metadata": {},
   "outputs": [],
   "source": []
  }
 ],
 "metadata": {
  "kernelspec": {
   "display_name": "Python 3 (ipykernel)",
   "language": "python",
   "name": "python3"
  },
  "language_info": {
   "codemirror_mode": {
    "name": "ipython",
    "version": 3
   },
   "file_extension": ".py",
   "mimetype": "text/x-python",
   "name": "python",
   "nbconvert_exporter": "python",
   "pygments_lexer": "ipython3",
   "version": "3.8.3"
  }
 },
 "nbformat": 4,
 "nbformat_minor": 5
}
