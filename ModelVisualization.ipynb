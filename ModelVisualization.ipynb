{
 "cells": [
  {
   "cell_type": "code",
   "execution_count": 3,
   "id": "793b6a88",
   "metadata": {},
   "outputs": [
    {
     "ename": "ModuleNotFoundError",
     "evalue": "No module named 'pydot'",
     "output_type": "error",
     "traceback": [
      "\u001b[0;31m---------------------------------------------------------------------------\u001b[0m",
      "\u001b[0;31mModuleNotFoundError\u001b[0m                       Traceback (most recent call last)",
      "Cell \u001b[0;32mIn[3], line 6\u001b[0m\n\u001b[1;32m      4\u001b[0m \u001b[39mimport\u001b[39;00m \u001b[39mtensorflow\u001b[39;00m \u001b[39mas\u001b[39;00m \u001b[39mtf\u001b[39;00m\n\u001b[1;32m      5\u001b[0m \u001b[39mfrom\u001b[39;00m \u001b[39mtensorflow\u001b[39;00m\u001b[39m.\u001b[39;00m\u001b[39mkeras\u001b[39;00m \u001b[39mimport\u001b[39;00m datasets, layers, models, utils\n\u001b[0;32m----> 6\u001b[0m \u001b[39mimport\u001b[39;00m \u001b[39mpydot\u001b[39;00m\n\u001b[1;32m      7\u001b[0m \u001b[39mfrom\u001b[39;00m \u001b[39mkeras\u001b[39;00m\u001b[39m.\u001b[39;00m\u001b[39mlayers\u001b[39;00m \u001b[39mimport\u001b[39;00m Input, Dense, Conv2D, UpSampling2D, Conv2DTranspose, Flatten, MaxPooling2D, BatchNormalization, Dropout\n",
      "\u001b[0;31mModuleNotFoundError\u001b[0m: No module named 'pydot'"
     ]
    }
   ],
   "source": [
    "import numpy as np\n",
    "import matplotlib.pyplot as plt\n",
    "from keras.models import Model, Sequential\n",
    "import tensorflow as tf\n",
    "from tensorflow.keras import datasets, layers, models, utils\n",
    "import pydot\n",
    "from keras.layers import Input, Dense, Conv2D, UpSampling2D, Conv2DTranspose, Flatten, MaxPooling2D, BatchNormalization, Dropout"
   ]
  },
  {
   "cell_type": "code",
   "execution_count": 13,
   "id": "80896b20",
   "metadata": {},
   "outputs": [],
   "source": [
    "# Build model\n",
    "model = models.Sequential()\n",
    "model.add(layers.Conv2D(32, (3, 3), activation='relu', input_shape=(32, 32, 3)))\n",
    "model.add(layers.MaxPooling2D((2, 2)))\n",
    "model.add(layers.Conv2D(64, (3, 3), activation='relu'))\n",
    "model.add(layers.MaxPooling2D((2, 2)))\n",
    "model.add(layers.Conv2D(64, (3, 3), activation='relu'))\n",
    "model.add(layers.Flatten())\n",
    "model.add(layers.Dense(64, activation='relu'))\n",
    "model.add(layers.Dense(10))\n",
    "model.compile(optimizer='adam',\n",
    "              loss=tf.keras.losses.SparseCategoricalCrossentropy(from_logits=True),\n",
    "              metrics=['accuracy'])"
   ]
  },
  {
   "cell_type": "code",
   "execution_count": 2,
   "id": "753b4881",
   "metadata": {},
   "outputs": [
    {
     "ename": "NameError",
     "evalue": "name 'Input' is not defined",
     "output_type": "error",
     "traceback": [
      "\u001b[0;31m---------------------------------------------------------------------------\u001b[0m",
      "\u001b[0;31mNameError\u001b[0m                                 Traceback (most recent call last)",
      "Cell \u001b[0;32mIn[2], line 1\u001b[0m\n\u001b[0;32m----> 1\u001b[0m inp\u001b[39m=\u001b[39mInput(shape\u001b[39m=\u001b[39m(\u001b[39m32\u001b[39m,\u001b[39m32\u001b[39m,\u001b[39m1\u001b[39m))\n\u001b[1;32m      2\u001b[0m x\u001b[39m=\u001b[39mConv2D(filters\u001b[39m=\u001b[39m\u001b[39m32\u001b[39m, kernel_size\u001b[39m=\u001b[39m(\u001b[39m4\u001b[39m,\u001b[39m4\u001b[39m), activation\u001b[39m=\u001b[39m\u001b[39m'\u001b[39m\u001b[39mrelu\u001b[39m\u001b[39m'\u001b[39m, padding\u001b[39m=\u001b[39m\u001b[39m'\u001b[39m\u001b[39msame\u001b[39m\u001b[39m'\u001b[39m)(inp)\n\u001b[1;32m      3\u001b[0m x\u001b[39m=\u001b[39mDropout(\u001b[39m0.3\u001b[39m)(x)\n",
      "\u001b[0;31mNameError\u001b[0m: name 'Input' is not defined"
     ]
    }
   ],
   "source": [
    "inp=Input(shape=(32,32,1))\n",
    "x=Conv2D(filters=32, kernel_size=(4,4), activation='relu', padding='same')(inp)\n",
    "x=Dropout(0.3)(x)\n",
    "x=Conv2D(filters=32, kernel_size=(4,4), activation='relu', padding='same', dilation_rate=(2,2))(x)\n",
    "x=Dropout(0.3)(x)\n",
    "x=MaxPooling2D(pool_size=(2,2), padding='same')(x)\n",
    "x=BatchNormalization(epsilon=0.01)(x)\n",
    "x=Conv2D(filters=128, kernel_size=(3,3), activation='relu', padding='same')(x)\n",
    "x=BatchNormalization(epsilon=0.01)(x)\n",
    "x=Dropout(0.3)(x)\n",
    "x=MaxPooling2D(pool_size=(2,2), padding='same')(x)\n",
    "x=Conv2D(filters=64, kernel_size=(2,2), activation='relu', padding='same' )(x)\n",
    "x=BatchNormalization(epsilon=0.01)(x)\n",
    "x=MaxPooling2D(pool_size=(2,2), padding='same')(x)\n",
    "x=Conv2D(filters = 64, kernel_size=(3,3), activation='relu', padding='same')(x)\n",
    "x=BatchNormalization(epsilon=0.01)(x)\n",
    "x=Dropout(0.3)(x)\n",
    "x=MaxPooling2D(pool_size=(2,2), padding='same')(x)\n",
    "# x=Conv2D(filters = 64, kernel_size=(2,2), activation='relu', padding='same')(x)\n",
    "# x=BatchNormalization(epsilon=0.01)(x)\n",
    "# x=MaxPooling2D(pool_size=(2,2), padding='same')(x)\n",
    "x=Flatten()(x)\n",
    "#x=Dense(10, activation='sigmoid')(x)\n",
    "x = Dense(10, activation='softmax', kernel_regularizer='L2')(x)\n",
    "mod0 = Model(inp, x)\n",
    "mod0.compile(optimizer='Adam', loss='SparseCategoricalCrossentropy', metrics='accuracy')"
   ]
  },
  {
   "cell_type": "code",
   "execution_count": 17,
   "id": "7b8c4482",
   "metadata": {},
   "outputs": [],
   "source": [
    "d = utils.plot_model(\n",
    "    model,\n",
    "    to_file = \"test4.png\",\n",
    "    show_shapes=True,\n",
    "    show_dtype=False,\n",
    "    show_layer_names=True,\n",
    "    rankdir=\"TB\",\n",
    "    expand_nested=False,\n",
    "    dpi=96,\n",
    "    layer_range=None,\n",
    "    show_layer_activations=True,\n",
    ")"
   ]
  },
  {
   "cell_type": "code",
   "execution_count": 15,
   "id": "960dc84c",
   "metadata": {},
   "outputs": [],
   "source": [
    "d.write_png(\"test3.png\")"
   ]
  },
  {
   "cell_type": "code",
   "execution_count": null,
   "id": "56170cb9",
   "metadata": {},
   "outputs": [],
   "source": []
  }
 ],
 "metadata": {
  "kernelspec": {
   "display_name": "Python 3.10.8 ('cs178')",
   "language": "python",
   "name": "python3"
  },
  "language_info": {
   "codemirror_mode": {
    "name": "ipython",
    "version": 3
   },
   "file_extension": ".py",
   "mimetype": "text/x-python",
   "name": "python",
   "nbconvert_exporter": "python",
   "pygments_lexer": "ipython3",
   "version": "3.10.8"
  },
  "vscode": {
   "interpreter": {
    "hash": "38c762ab130bd88fd467ed819ac0e6ce94c03cd3cf47821307e691fea32fd23e"
   }
  }
 },
 "nbformat": 4,
 "nbformat_minor": 5
}
